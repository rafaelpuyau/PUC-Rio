{
  "nbformat": 4,
  "nbformat_minor": 0,
  "metadata": {
    "colab": {
      "provenance": [],
      "mount_file_id": "14NqWVOnfcCIwUSEP60fnU7z6vcEajlhh",
      "authorship_tag": "ABX9TyPZ6b6Nkma/eivNZkpSC5v/",
      "include_colab_link": true
    },
    "kernelspec": {
      "name": "python3",
      "display_name": "Python 3"
    },
    "language_info": {
      "name": "python"
    }
  },
  "cells": [
    {
      "cell_type": "markdown",
      "metadata": {
        "id": "view-in-github",
        "colab_type": "text"
      },
      "source": [
        "<a href=\"https://colab.research.google.com/github/rafaelpuyau/PUC-Rio/blob/main/MVP_Sprint_II.ipynb\" target=\"_parent\"><img src=\"https://colab.research.google.com/assets/colab-badge.svg\" alt=\"Open In Colab\"/></a>"
      ]
    },
    {
      "cell_type": "markdown",
      "source": [
        "# Machine Learning"
      ],
      "metadata": {
        "id": "d3HB_3q0JM1k"
      }
    },
    {
      "cell_type": "markdown",
      "source": [
        "Previsão dos preços dos carros da tabela FIPE"
      ],
      "metadata": {
        "id": "U_cClIElJ-aM"
      }
    },
    {
      "cell_type": "markdown",
      "source": [
        "## Metadados"
      ],
      "metadata": {
        "id": "JmWkJMaveMw6"
      }
    },
    {
      "cell_type": "markdown",
      "source": [
        "* __year_of_reference__: year of reference of the observation, i.e., the year the data corresponds to.\n",
        "\n",
        "* __moth_of_reference__: month of reference of the observation, i.e., the month the data corresponds to. The average price is calculated by FIPE each month.\n",
        "\n",
        "* __fipe_code__: unique id corresponding to a model for easy search on FIPE webpage.\n",
        "\n",
        "* __authentication__: unique code that authenticates the consult in FIPE's site.\n",
        "brand: car's make.\n",
        "\n",
        "* __model__: a description of the car containing the name and other descriptive information, as provided in FIPE table.\n",
        "\n",
        "* __fuel__: fuel used by the car. Some of gas cars are actually alcohol and gas (totalflex), which is common in Brazil.\n",
        "\n",
        "* __gear__: the way gears are shifted.\n",
        "\n",
        "* __engine_size__: Engine size measured in cubic centimeters.\n",
        "\n",
        "* __year_model__: those values corresponds to the year of reference, and may not be the same of the year of manufacture, which in case will corresponds to a year before year_model. Observations with year_model = year_of_reference mean the car is brand new for that year of reference, i.e., a 2021 car with year_of_reference = 2021 and moth_of_reference = July mean that the observation (mainly the average price) corresponds to a brand new car in the year of 2021, of the month of July. The same model may have a different average price for different month.\n",
        "\n",
        "* __avg_price_brl__: average car's price, as measured by FIPE, in BRL"
      ],
      "metadata": {
        "id": "GSOo51leIEVT"
      }
    },
    {
      "cell_type": "code",
      "source": [
        "# Distribuição das variáveis categóricas\n",
        "# for col in ['month_of_reference', 'brand', 'fuel', 'gear', 'year_model']:\n",
        "#   print(df[col].value_counts())\n",
        "#   print('---' * 20)"
      ],
      "metadata": {
        "id": "BckqRbHvLIte"
      },
      "execution_count": null,
      "outputs": []
    },
    {
      "cell_type": "markdown",
      "source": [
        "Uma breve e simples __EDA__ (Exploratory Data Analysis) para verificar possíveis correlações e entender melhor a base"
      ],
      "metadata": {
        "id": "kUvjiPHKMW6g"
      }
    },
    {
      "cell_type": "code",
      "source": [
        "print(df.describe())"
      ],
      "metadata": {
        "colab": {
          "base_uri": "https://localhost:8080/",
          "height": 300
        },
        "id": "ki7Wa8HGMoYu",
        "outputId": "c10fedb7-761b-4a56-a92c-1d1782e738e3"
      },
      "execution_count": 138,
      "outputs": [
        {
          "output_type": "execute_result",
          "data": {
            "text/plain": [
              "       year_of_reference  engine_size  year_model  avg_price_brl\n",
              "count          599007.00    599007.00   599007.00      599007.00\n",
              "mean             2021.57         2.27     2008.75      111580.60\n",
              "std                 0.57         1.03        9.19      291223.74\n",
              "min              2021.00         0.70     1985.00        1679.00\n",
              "25%              2021.00         1.60     2001.00       20150.00\n",
              "50%              2022.00         2.00     2010.00       42989.00\n",
              "75%              2022.00         2.80     2016.00       96921.00\n",
              "max              2023.00         6.70     2023.00     8600000.00"
            ],
            "text/html": [
              "\n",
              "\n",
              "  <div id=\"df-22a12ee3-a1ae-44b0-a25a-94ab061a1bf9\">\n",
              "    <div class=\"colab-df-container\">\n",
              "      <div>\n",
              "<style scoped>\n",
              "    .dataframe tbody tr th:only-of-type {\n",
              "        vertical-align: middle;\n",
              "    }\n",
              "\n",
              "    .dataframe tbody tr th {\n",
              "        vertical-align: top;\n",
              "    }\n",
              "\n",
              "    .dataframe thead th {\n",
              "        text-align: right;\n",
              "    }\n",
              "</style>\n",
              "<table border=\"1\" class=\"dataframe\">\n",
              "  <thead>\n",
              "    <tr style=\"text-align: right;\">\n",
              "      <th></th>\n",
              "      <th>year_of_reference</th>\n",
              "      <th>engine_size</th>\n",
              "      <th>year_model</th>\n",
              "      <th>avg_price_brl</th>\n",
              "    </tr>\n",
              "  </thead>\n",
              "  <tbody>\n",
              "    <tr>\n",
              "      <th>count</th>\n",
              "      <td>599007.00</td>\n",
              "      <td>599007.00</td>\n",
              "      <td>599007.00</td>\n",
              "      <td>599007.00</td>\n",
              "    </tr>\n",
              "    <tr>\n",
              "      <th>mean</th>\n",
              "      <td>2021.57</td>\n",
              "      <td>2.27</td>\n",
              "      <td>2008.75</td>\n",
              "      <td>111580.60</td>\n",
              "    </tr>\n",
              "    <tr>\n",
              "      <th>std</th>\n",
              "      <td>0.57</td>\n",
              "      <td>1.03</td>\n",
              "      <td>9.19</td>\n",
              "      <td>291223.74</td>\n",
              "    </tr>\n",
              "    <tr>\n",
              "      <th>min</th>\n",
              "      <td>2021.00</td>\n",
              "      <td>0.70</td>\n",
              "      <td>1985.00</td>\n",
              "      <td>1679.00</td>\n",
              "    </tr>\n",
              "    <tr>\n",
              "      <th>25%</th>\n",
              "      <td>2021.00</td>\n",
              "      <td>1.60</td>\n",
              "      <td>2001.00</td>\n",
              "      <td>20150.00</td>\n",
              "    </tr>\n",
              "    <tr>\n",
              "      <th>50%</th>\n",
              "      <td>2022.00</td>\n",
              "      <td>2.00</td>\n",
              "      <td>2010.00</td>\n",
              "      <td>42989.00</td>\n",
              "    </tr>\n",
              "    <tr>\n",
              "      <th>75%</th>\n",
              "      <td>2022.00</td>\n",
              "      <td>2.80</td>\n",
              "      <td>2016.00</td>\n",
              "      <td>96921.00</td>\n",
              "    </tr>\n",
              "    <tr>\n",
              "      <th>max</th>\n",
              "      <td>2023.00</td>\n",
              "      <td>6.70</td>\n",
              "      <td>2023.00</td>\n",
              "      <td>8600000.00</td>\n",
              "    </tr>\n",
              "  </tbody>\n",
              "</table>\n",
              "</div>\n",
              "      <button class=\"colab-df-convert\" onclick=\"convertToInteractive('df-22a12ee3-a1ae-44b0-a25a-94ab061a1bf9')\"\n",
              "              title=\"Convert this dataframe to an interactive table.\"\n",
              "              style=\"display:none;\">\n",
              "\n",
              "  <svg xmlns=\"http://www.w3.org/2000/svg\" height=\"24px\"viewBox=\"0 0 24 24\"\n",
              "       width=\"24px\">\n",
              "    <path d=\"M0 0h24v24H0V0z\" fill=\"none\"/>\n",
              "    <path d=\"M18.56 5.44l.94 2.06.94-2.06 2.06-.94-2.06-.94-.94-2.06-.94 2.06-2.06.94zm-11 1L8.5 8.5l.94-2.06 2.06-.94-2.06-.94L8.5 2.5l-.94 2.06-2.06.94zm10 10l.94 2.06.94-2.06 2.06-.94-2.06-.94-.94-2.06-.94 2.06-2.06.94z\"/><path d=\"M17.41 7.96l-1.37-1.37c-.4-.4-.92-.59-1.43-.59-.52 0-1.04.2-1.43.59L10.3 9.45l-7.72 7.72c-.78.78-.78 2.05 0 2.83L4 21.41c.39.39.9.59 1.41.59.51 0 1.02-.2 1.41-.59l7.78-7.78 2.81-2.81c.8-.78.8-2.07 0-2.86zM5.41 20L4 18.59l7.72-7.72 1.47 1.35L5.41 20z\"/>\n",
              "  </svg>\n",
              "      </button>\n",
              "\n",
              "\n",
              "\n",
              "    <div id=\"df-f9ea8130-dcdb-49a9-83d0-e584b418d147\">\n",
              "      <button class=\"colab-df-quickchart\" onclick=\"quickchart('df-f9ea8130-dcdb-49a9-83d0-e584b418d147')\"\n",
              "              title=\"Suggest charts.\"\n",
              "              style=\"display:none;\">\n",
              "\n",
              "<svg xmlns=\"http://www.w3.org/2000/svg\" height=\"24px\"viewBox=\"0 0 24 24\"\n",
              "     width=\"24px\">\n",
              "    <g>\n",
              "        <path d=\"M19 3H5c-1.1 0-2 .9-2 2v14c0 1.1.9 2 2 2h14c1.1 0 2-.9 2-2V5c0-1.1-.9-2-2-2zM9 17H7v-7h2v7zm4 0h-2V7h2v10zm4 0h-2v-4h2v4z\"/>\n",
              "    </g>\n",
              "</svg>\n",
              "      </button>\n",
              "    </div>\n",
              "\n",
              "<style>\n",
              "  .colab-df-quickchart {\n",
              "    background-color: #E8F0FE;\n",
              "    border: none;\n",
              "    border-radius: 50%;\n",
              "    cursor: pointer;\n",
              "    display: none;\n",
              "    fill: #1967D2;\n",
              "    height: 32px;\n",
              "    padding: 0 0 0 0;\n",
              "    width: 32px;\n",
              "  }\n",
              "\n",
              "  .colab-df-quickchart:hover {\n",
              "    background-color: #E2EBFA;\n",
              "    box-shadow: 0px 1px 2px rgba(60, 64, 67, 0.3), 0px 1px 3px 1px rgba(60, 64, 67, 0.15);\n",
              "    fill: #174EA6;\n",
              "  }\n",
              "\n",
              "  [theme=dark] .colab-df-quickchart {\n",
              "    background-color: #3B4455;\n",
              "    fill: #D2E3FC;\n",
              "  }\n",
              "\n",
              "  [theme=dark] .colab-df-quickchart:hover {\n",
              "    background-color: #434B5C;\n",
              "    box-shadow: 0px 1px 3px 1px rgba(0, 0, 0, 0.15);\n",
              "    filter: drop-shadow(0px 1px 2px rgba(0, 0, 0, 0.3));\n",
              "    fill: #FFFFFF;\n",
              "  }\n",
              "</style>\n",
              "\n",
              "    <script>\n",
              "      async function quickchart(key) {\n",
              "        const containerElement = document.querySelector('#' + key);\n",
              "        const charts = await google.colab.kernel.invokeFunction(\n",
              "            'suggestCharts', [key], {});\n",
              "      }\n",
              "    </script>\n",
              "\n",
              "      <script>\n",
              "\n",
              "function displayQuickchartButton(domScope) {\n",
              "  let quickchartButtonEl =\n",
              "    domScope.querySelector('#df-f9ea8130-dcdb-49a9-83d0-e584b418d147 button.colab-df-quickchart');\n",
              "  quickchartButtonEl.style.display =\n",
              "    google.colab.kernel.accessAllowed ? 'block' : 'none';\n",
              "}\n",
              "\n",
              "        displayQuickchartButton(document);\n",
              "      </script>\n",
              "      <style>\n",
              "    .colab-df-container {\n",
              "      display:flex;\n",
              "      flex-wrap:wrap;\n",
              "      gap: 12px;\n",
              "    }\n",
              "\n",
              "    .colab-df-convert {\n",
              "      background-color: #E8F0FE;\n",
              "      border: none;\n",
              "      border-radius: 50%;\n",
              "      cursor: pointer;\n",
              "      display: none;\n",
              "      fill: #1967D2;\n",
              "      height: 32px;\n",
              "      padding: 0 0 0 0;\n",
              "      width: 32px;\n",
              "    }\n",
              "\n",
              "    .colab-df-convert:hover {\n",
              "      background-color: #E2EBFA;\n",
              "      box-shadow: 0px 1px 2px rgba(60, 64, 67, 0.3), 0px 1px 3px 1px rgba(60, 64, 67, 0.15);\n",
              "      fill: #174EA6;\n",
              "    }\n",
              "\n",
              "    [theme=dark] .colab-df-convert {\n",
              "      background-color: #3B4455;\n",
              "      fill: #D2E3FC;\n",
              "    }\n",
              "\n",
              "    [theme=dark] .colab-df-convert:hover {\n",
              "      background-color: #434B5C;\n",
              "      box-shadow: 0px 1px 3px 1px rgba(0, 0, 0, 0.15);\n",
              "      filter: drop-shadow(0px 1px 2px rgba(0, 0, 0, 0.3));\n",
              "      fill: #FFFFFF;\n",
              "    }\n",
              "  </style>\n",
              "\n",
              "      <script>\n",
              "        const buttonEl =\n",
              "          document.querySelector('#df-22a12ee3-a1ae-44b0-a25a-94ab061a1bf9 button.colab-df-convert');\n",
              "        buttonEl.style.display =\n",
              "          google.colab.kernel.accessAllowed ? 'block' : 'none';\n",
              "\n",
              "        async function convertToInteractive(key) {\n",
              "          const element = document.querySelector('#df-22a12ee3-a1ae-44b0-a25a-94ab061a1bf9');\n",
              "          const dataTable =\n",
              "            await google.colab.kernel.invokeFunction('convertToInteractive',\n",
              "                                                     [key], {});\n",
              "          if (!dataTable) return;\n",
              "\n",
              "          const docLinkHtml = 'Like what you see? Visit the ' +\n",
              "            '<a target=\"_blank\" href=https://colab.research.google.com/notebooks/data_table.ipynb>data table notebook</a>'\n",
              "            + ' to learn more about interactive tables.';\n",
              "          element.innerHTML = '';\n",
              "          dataTable['output_type'] = 'display_data';\n",
              "          await google.colab.output.renderOutput(dataTable, element);\n",
              "          const docLink = document.createElement('div');\n",
              "          docLink.innerHTML = docLinkHtml;\n",
              "          element.appendChild(docLink);\n",
              "        }\n",
              "      </script>\n",
              "    </div>\n",
              "  </div>\n"
            ]
          },
          "metadata": {},
          "execution_count": 138
        }
      ]
    },
    {
      "cell_type": "markdown",
      "source": [
        "## Separando variáveis preditoras e target"
      ],
      "metadata": {
        "id": "2emLCwMyRTXu"
      }
    },
    {
      "cell_type": "code",
      "source": [
        "# Configuração para não exibir os warnings\n",
        "import warnings\n",
        "warnings.filterwarnings(\"ignore\")\n",
        "\n",
        "# Imports necessários\n",
        "import pandas as pd\n",
        "import numpy as np\n",
        "import matplotlib.pyplot as plt\n",
        "from sklearn.preprocessing import OneHotEncoder # encoder para transformar colunas categóricas em numéricas\n",
        "from sklearn.model_selection import train_test_split # para particionar em bases de treino e teste (holdout)\n",
        "from sklearn.model_selection import KFold # para preparar os folds da validação cruzada\n",
        "from sklearn.model_selection import cross_val_score # para executar a validação cruzada\n",
        "from sklearn.metrics import mean_squared_error # métrica de avaliação MSE\n",
        "from sklearn.linear_model import LinearRegression # algoritmo Regressão Linear\n",
        "from sklearn.linear_model import Ridge # algoritmo Regularização Ridge\n",
        "from sklearn.linear_model import Lasso # algoritmo Regularização Lasso\n",
        "from sklearn.neighbors import KNeighborsRegressor # algoritmo KNN\n",
        "from sklearn.tree import DecisionTreeRegressor # algoritmo Árvore de Regressão\n",
        "from sklearn.svm import SVR # algoritmo SVM"
      ],
      "metadata": {
        "id": "4H2SvV-pY7E1"
      },
      "execution_count": 35,
      "outputs": []
    },
    {
      "cell_type": "code",
      "source": [
        "# Configurações\n",
        "pd.set_option('display.float_format', lambda x: '%.2f' % x)\n",
        "pd.set_option('display.max_columns', None)"
      ],
      "metadata": {
        "id": "eleQBXO5aM7E"
      },
      "execution_count": 36,
      "outputs": []
    },
    {
      "cell_type": "code",
      "source": [
        "dataset_part1 = r'https://raw.githubusercontent.com/rafaelpuyau/PUC-Rio/main/fipe_cars_part1.csv'\n",
        "dataset_part2 = r'https://raw.githubusercontent.com/rafaelpuyau/PUC-Rio/main/fipe_cars_part2.csv'\n",
        "dataset_part3 = r'https://raw.githubusercontent.com/rafaelpuyau/PUC-Rio/main/fipe_cars_part3.csv'\n",
        "dataset_part4 = r'https://raw.githubusercontent.com/rafaelpuyau/PUC-Rio/main/fipe_cars_part4.csv'\n",
        "\n",
        "df = pd.DataFrame()\n",
        "\n",
        "for i in range(1, 5):\n",
        "  df_aux = pd.read_csv(globals()[f'dataset_part{i}'])\n",
        "  df = pd.concat([df, df_aux])"
      ],
      "metadata": {
        "id": "cLRlGMlmaVsZ"
      },
      "execution_count": 37,
      "outputs": []
    },
    {
      "cell_type": "code",
      "source": [
        "df.shape"
      ],
      "metadata": {
        "colab": {
          "base_uri": "https://localhost:8080/"
        },
        "id": "Qo5cPLF4aioF",
        "outputId": "cbbfcf80-4a20-4500-93ea-91081f09a6c2"
      },
      "execution_count": 39,
      "outputs": [
        {
          "output_type": "execute_result",
          "data": {
            "text/plain": [
              "(599007, 11)"
            ]
          },
          "metadata": {},
          "execution_count": 39
        }
      ]
    },
    {
      "cell_type": "code",
      "source": [
        "print(df.info())"
      ],
      "metadata": {
        "colab": {
          "base_uri": "https://localhost:8080/"
        },
        "id": "9zHF3FFC2kZh",
        "outputId": "a25d155c-014a-440d-f781-4422b2379c69"
      },
      "execution_count": 135,
      "outputs": [
        {
          "output_type": "stream",
          "name": "stdout",
          "text": [
            "<class 'pandas.core.frame.DataFrame'>\n",
            "Int64Index: 599007 entries, 0 to 149751\n",
            "Data columns (total 11 columns):\n",
            " #   Column              Non-Null Count   Dtype  \n",
            "---  ------              --------------   -----  \n",
            " 0   year_of_reference   599007 non-null  int64  \n",
            " 1   month_of_reference  599007 non-null  object \n",
            " 2   fipe_code           599007 non-null  object \n",
            " 3   authentication      599007 non-null  object \n",
            " 4   brand               599007 non-null  object \n",
            " 5   model               599007 non-null  object \n",
            " 6   fuel                599007 non-null  object \n",
            " 7   gear                599007 non-null  object \n",
            " 8   engine_size         599007 non-null  float64\n",
            " 9   year_model          599007 non-null  int64  \n",
            " 10  avg_price_brl       599007 non-null  float64\n",
            "dtypes: float64(2), int64(2), object(7)\n",
            "memory usage: 54.8+ MB\n"
          ]
        }
      ]
    },
    {
      "cell_type": "code",
      "source": [
        "print(df.isna().sum())"
      ],
      "metadata": {
        "colab": {
          "base_uri": "https://localhost:8080/"
        },
        "id": "3v92xoZG2nTK",
        "outputId": "5a5e8f73-ffce-4c8a-f893-8bec83cdce36"
      },
      "execution_count": 136,
      "outputs": [
        {
          "output_type": "execute_result",
          "data": {
            "text/plain": [
              "year_of_reference     0\n",
              "month_of_reference    0\n",
              "fipe_code             0\n",
              "authentication        0\n",
              "brand                 0\n",
              "model                 0\n",
              "fuel                  0\n",
              "gear                  0\n",
              "engine_size           0\n",
              "year_model            0\n",
              "avg_price_brl         0\n",
              "dtype: int64"
            ]
          },
          "metadata": {},
          "execution_count": 136
        }
      ]
    },
    {
      "cell_type": "code",
      "source": [
        "# Preparação dos dados\n",
        "\n",
        "# Separação em bases de treino e teste (holdout)\n",
        "\n",
        "# As colunas fipe_code, authentication, brand e model serão removidas pois não ajudarão no modelo\n",
        "X =  df.drop(['fipe_code', 'authentication', 'model', 'avg_price_brl'], axis='columns') # atributos\n",
        "\n",
        "y =  df['avg_price_brl'] # classe (target)\n",
        "\n",
        "X_train, X_test, y_train, y_test = train_test_split(X, y, test_size=0.20, random_state=7) # faz a divisão\n",
        "\n",
        "# Buscando as colunas que não são numéricas\n",
        "colunas_categoricas = X_train.select_dtypes(include=[object]).columns\n",
        "print(colunas_categoricas)\n",
        "\n",
        "# Criando o objeto que vai transformar as colunas categóricas em diversas colunas numéricas\n",
        "ohe = OneHotEncoder(sparse=False, drop='first')\n",
        "\n",
        "# Transformando as variáveis categóricas em numéricas\n",
        "# Codificar as variáveis categóricas\n",
        "# Os algoritmos entendem apenas números! Assim, devemos converter as variáveis\n",
        "# categóricas de alguma forma. Para isso, utilizarei o _OneHotEncoding_, uma forma\n",
        "# simples de transformar categorias não ordinais em números\n",
        "\n",
        "for col_cat in colunas_categoricas:\n",
        "  colunas_ohe = ohe.fit_transform(X_train[[col_cat]])\n",
        "  colunas_ohe_teste = ohe.transform(X_test[[col_cat]])\n",
        "\n",
        "  categorias_ohe = ohe.categories_[0][1:]\n",
        "\n",
        "  for indice, nome_categoria in enumerate(categorias_ohe):\n",
        "    df_categorias = pd.DataFrame(data=colunas_ohe[:, indice], columns=[nome_categoria])\n",
        "    df_categorias_teste = pd.DataFrame(data=colunas_ohe_teste[:, indice], columns=[nome_categoria])\n",
        "\n",
        "    X_train[nome_categoria] = colunas_ohe[:, indice]\n",
        "    X_test[nome_categoria] = colunas_ohe_teste[:, indice]\n",
        "\n",
        "  X_train = X_train.drop(col_cat, axis='columns')\n",
        "  X_test = X_test.drop(col_cat, axis='columns')\n",
        "\n",
        "# Criando os folds para a validação cruzada\n",
        "num_particoes = 10 # número de folds da validação cruzada\n",
        "kfold = KFold(n_splits=num_particoes, shuffle=True, random_state=7) # faz o particionamento em 10 folds"
      ],
      "metadata": {
        "colab": {
          "base_uri": "https://localhost:8080/"
        },
        "id": "1wUJLiGXajrK",
        "outputId": "51dad605-cb53-4012-f0ed-c07f9a287371"
      },
      "execution_count": 40,
      "outputs": [
        {
          "output_type": "stream",
          "name": "stdout",
          "text": [
            "Index(['month_of_reference', 'brand', 'fuel', 'gear'], dtype='object')\n"
          ]
        }
      ]
    },
    {
      "cell_type": "code",
      "source": [
        "# Modelagem\n",
        "\n",
        "# Definindo uma seed global para esta célula de código\n",
        "np.random.seed(7)\n",
        "\n",
        "# Listas para armazenar os modelos, os resultados e os nomes dos modelos\n",
        "models = []\n",
        "results = []\n",
        "names = []\n",
        "\n",
        "# Preparando os modelos e adicionando-os em uma lista\n",
        "models.append(('LR', LinearRegression()))\n",
        "models.append(('Ridge', Ridge()))\n",
        "models.append(('Lasso', Lasso()))\n",
        "models.append(('KNN', KNeighborsRegressor()))\n",
        "models.append(('CART', DecisionTreeRegressor()))\n",
        "models.append(('SVM', SVR()))\n",
        "\n",
        "# Avaliando um modelo por vez\n",
        "for name, model in models:\n",
        "  cv_results = cross_val_score(model, X_train, y_train, cv=kfold, scoring='neg_mean_squared_error')\n",
        "  results.append(cv_results)\n",
        "  names.append(name)\n",
        "  # imprime MSE, desvio padrão do MSE e RMSE dos 10 resultados da validação cruzada\n",
        "  msg = \"%s: MSE %0.2f (%0.2f) - RMSE %0.2f\" % (name, abs(cv_results.mean()), cv_results.std(), np.sqrt(abs(cv_results.mean())))\n",
        "  print(msg)\n",
        "\n",
        "# Boxplot de comparação dos modelos\n",
        "fig = plt.figure()\n",
        "fig.suptitle('Comparação do MSE dos Modelos')\n",
        "ax = fig.add_subplot(111)\n",
        "plt.boxplot(results)\n",
        "ax.set_xticklabels(names)\n",
        "plt.show()"
      ],
      "metadata": {
        "colab": {
          "base_uri": "https://localhost:8080/"
        },
        "id": "twwA_pbIdvQN",
        "outputId": "55f14acd-aaa2-4d1e-c92c-542fb0d8c774"
      },
      "execution_count": null,
      "outputs": [
        {
          "output_type": "stream",
          "name": "stdout",
          "text": [
            "LR: MSE 25764831023.93 (1732510609.90) - RMSE 160514.27\n",
            "Ridge: MSE 25765015680.31 (1736170802.94) - RMSE 160514.85\n",
            "Lasso: MSE 25769516078.00 (1733320020.86) - RMSE 160528.86\n"
          ]
        }
      ]
    },
    {
      "cell_type": "code",
      "source": [
        "# Criando um modelo com todo o conjunto de treino\n",
        "model = LinearRegression()\n",
        "model.fit(X_train, y_train)\n",
        "\n",
        "# Fazendo as predições com o conjunto de teste\n",
        "predictions = model.predict(X_test)\n",
        "\n",
        "# Estimando o MSE e o RMSE no conjunto de teste\n",
        "mse = mean_squared_error(y_test, predictions)\n",
        "print(\"MSE %0.2f\" % mse)\n",
        "print(\"RMSE %0.2f\" % np.sqrt(abs(mse)))"
      ],
      "metadata": {
        "id": "cHJtHczNdI7j"
      },
      "execution_count": null,
      "outputs": []
    },
    {
      "cell_type": "markdown",
      "source": [
        "# Visão Computacional"
      ],
      "metadata": {
        "id": "q-UWFvdTh7zZ"
      }
    },
    {
      "cell_type": "markdown",
      "source": [
        "## Instalar a biblioteca Ultralytics"
      ],
      "metadata": {
        "id": "T_Dt8BQfh-OT"
      }
    },
    {
      "cell_type": "code",
      "source": [
        "!pip install ultralytics==8.0.0 -q"
      ],
      "metadata": {
        "id": "Af43aHetiAgb"
      },
      "execution_count": null,
      "outputs": []
    },
    {
      "cell_type": "code",
      "source": [
        "from IPython.display import Image\n",
        "import torch"
      ],
      "metadata": {
        "id": "Xi5MpPe6iGzT"
      },
      "execution_count": null,
      "outputs": []
    },
    {
      "cell_type": "code",
      "source": [
        "torch.cuda.is_available()"
      ],
      "metadata": {
        "id": "gu8JyAX5iMCZ"
      },
      "execution_count": null,
      "outputs": []
    },
    {
      "cell_type": "markdown",
      "source": [
        "## Detecção de objetos com YOLOv8\n",
        "\n",
        "Vamos baixar duas imagens de exemplo do meu Google Drive para o Google Colab Notebook. Essas imagens mostrarão como o YOLOv8 funciona na detecção de objetos em imagens.\n",
        "\n",
        "Vamos baixar a imagem de exemplo do Google Drive. Para isso, utilize o link direto de download e execute os comandos abaixo:"
      ],
      "metadata": {
        "id": "ilUpvp1tkSai"
      }
    },
    {
      "cell_type": "code",
      "source": [
        "!gdown \"https://drive.google.com/uc?id=1YQB6NpKfQD6T9OAq8fDc_gL2vvvdiB5q\"\n",
        "!gdown \"https://drive.google.com/uc?id=1pmTPY7_g_gg6Npqkas3KXL57vzqYhhEu\""
      ],
      "metadata": {
        "id": "3C-HWDhviPFC"
      },
      "execution_count": null,
      "outputs": []
    },
    {
      "cell_type": "markdown",
      "source": [
        "## Executar Detecção de Objetos em uma Imagem de Exemplo\n",
        "\n",
        "Agora que temos a imagem de exemplo baixada no Google Colab Notebook. Usaremos o YOLOv8 para executar a detecção de objetos na imagem. Para isso, siga os passos abaixo:\n",
        "\n",
        "Primeiro, execute o seguinte comando na célula abaixo para carregar o modelo YOLOv8 pré-treinado e realizar a detecção de objetos na imagem de exemplo:"
      ],
      "metadata": {
        "id": "5kmWpTdVipNK"
      }
    },
    {
      "cell_type": "code",
      "source": [
        "!yolo task=detect mode=predict model=yolov8s.pt source='/content/foto1.jpg'"
      ],
      "metadata": {
        "id": "WNOhfttWihNA"
      },
      "execution_count": null,
      "outputs": []
    },
    {
      "cell_type": "markdown",
      "source": [
        "Após a execução bem-sucedida do comando, o resultado da detecção de objetos será salvo no diretório \"runs/detect/exp\". Para visualizar a imagem com os objetos detectados, execute o seguinte comando no bloco de notas:"
      ],
      "metadata": {
        "id": "2FKnFquGi17w"
      }
    },
    {
      "cell_type": "code",
      "source": [
        "Image('/content/runs/detect/predict/foto1.jpg', width=4128)"
      ],
      "metadata": {
        "id": "URpEFNlDi8Hi"
      },
      "execution_count": null,
      "outputs": []
    },
    {
      "cell_type": "markdown",
      "source": [
        "O comando acima exibirá a imagem \"da minha família\" com os objetos detectados pelo modelo YOLOv8."
      ],
      "metadata": {
        "id": "FtX1Q7nXi_L3"
      }
    },
    {
      "cell_type": "code",
      "source": [
        "# Outro exemplo\n",
        "Image('/content/runs/detect/predict/foto2.jpg', width=2322)"
      ],
      "metadata": {
        "id": "VG8sQQfEo6-Q"
      },
      "execution_count": null,
      "outputs": []
    },
    {
      "cell_type": "markdown",
      "source": [
        "## Para salvar as informações das caixas delimitadoras, defina save_txt=True\n",
        "\n",
        "Se desejar salvar as informações das caixas delimitadoras (bounding boxes) detectadas pelo modelo YOLOv8, como as coordenadas e as classes dos objetos detectados, siga os passos abaixo:\n",
        "\n",
        "Execute o seguinte comando no bloco de notas, adicionando o argumento --save-txt:"
      ],
      "metadata": {
        "id": "AuQTbCbWjEoT"
      }
    },
    {
      "cell_type": "code",
      "source": [
        "!yolo task=detect mode=predict model=yolov8s.pt source='/content/foto1.jpg' save_txt=True"
      ],
      "metadata": {
        "id": "c8slvqMCjYPl"
      },
      "execution_count": null,
      "outputs": []
    },
    {
      "cell_type": "code",
      "source": [
        "# Outro exemplo\n",
        "!yolo task=detect mode=predict model=yolov8s.pt source='/content/foto2.jpg' save_txt=True"
      ],
      "metadata": {
        "id": "ZEIxSTempru1"
      },
      "execution_count": null,
      "outputs": []
    },
    {
      "cell_type": "markdown",
      "source": [
        "## Display the Output Image"
      ],
      "metadata": {
        "id": "j1D06bz3jb_c"
      }
    },
    {
      "cell_type": "code",
      "source": [
        "Image('/content/runs/detect/predict2/foto1.jpg')"
      ],
      "metadata": {
        "id": "BSgNBye8jgmd"
      },
      "execution_count": null,
      "outputs": []
    },
    {
      "cell_type": "markdown",
      "source": [
        "## Para salvar o \"Objeto Recortado\" defina save_crop=True\n",
        "\n",
        "Se desejar salvar os objetos recortados (crop objects) detectados pelo modelo YOLOv8, siga os passos abaixo:"
      ],
      "metadata": {
        "id": "7Dl7Gy5zjjBL"
      }
    },
    {
      "cell_type": "code",
      "source": [
        "!yolo task=detect mode=predict model=yolov8s.pt source='/content/foto1.jpg' save_crop=True"
      ],
      "metadata": {
        "id": "l4kAwWYxjlXb"
      },
      "execution_count": null,
      "outputs": []
    },
    {
      "cell_type": "code",
      "source": [
        "# Outro exemplo\n",
        "!yolo task=detect mode=predict model=yolov8s.pt source='/content/foto2.jpg' save_crop=True"
      ],
      "metadata": {
        "id": "sA_X6kw8p5YN"
      },
      "execution_count": null,
      "outputs": []
    },
    {
      "cell_type": "markdown",
      "source": [
        "Após a execução bem-sucedida do comando, os objetos recortados serão salvos no diretório \"runs/detect/exp/crops\". Para visualizar os arquivos de imagem dos objetos recortados, você pode usar o seguinte código no bloco de notas:"
      ],
      "metadata": {
        "id": "Uzbv4MpYjqRv"
      }
    },
    {
      "cell_type": "code",
      "source": [
        "Image('/content/runs/detect/predict3/crops/person/foto1.jpg')"
      ],
      "metadata": {
        "id": "b0Nnj0g6j0JZ"
      },
      "execution_count": null,
      "outputs": []
    },
    {
      "cell_type": "code",
      "source": [
        "Image('/content/runs/detect/predict3/crops/person/foto2.jpg')"
      ],
      "metadata": {
        "id": "CSrkmMifqDu_"
      },
      "execution_count": null,
      "outputs": []
    },
    {
      "cell_type": "markdown",
      "source": [
        "## Image Segmentation"
      ],
      "metadata": {
        "id": "_b35A036j-g6"
      }
    },
    {
      "cell_type": "code",
      "source": [
        "!yolo task=segment mode=predict model=yolov8s-seg.pt source='/content/foto1.jpg'"
      ],
      "metadata": {
        "id": "vauurFLgkAyf"
      },
      "execution_count": null,
      "outputs": []
    },
    {
      "cell_type": "markdown",
      "source": [
        "Para visualizar a imagem com a _Segmentation_"
      ],
      "metadata": {
        "id": "CXwDl4-OqLCm"
      }
    },
    {
      "cell_type": "code",
      "source": [
        "Image('/content/runs/segment/predict/foto1.jpg')"
      ],
      "metadata": {
        "id": "CZ4VzxMRkDhj"
      },
      "execution_count": null,
      "outputs": []
    }
  ]
}