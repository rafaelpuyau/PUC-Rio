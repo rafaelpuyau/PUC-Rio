{
 "cells": [
  {
   "cell_type": "code",
   "execution_count": 0,
   "metadata": {
    "application/vnd.databricks.v1+cell": {
     "cellMetadata": {
      "byteLimit": 2048000,
      "rowLimit": 10000
     },
     "inputWidgets": {},
     "nuid": "4a9f7e7b-07b9-42bd-b686-62b9cd34cc7d",
     "showTitle": false,
     "title": ""
    }
   },
   "outputs": [
    {
     "output_type": "stream",
     "name": "stdout",
     "output_type": "stream",
     "text": [
      "Initializing pre-processing and queries fase...\n"
     ]
    }
   ],
   "source": [
    "print(\"Initializing pre-processing and queries fase...\")"
   ]
  },
  {
   "cell_type": "code",
   "execution_count": 0,
   "metadata": {
    "application/vnd.databricks.v1+cell": {
     "cellMetadata": {
      "byteLimit": 2048000,
      "rowLimit": 10000
     },
     "inputWidgets": {},
     "nuid": "7576e9fa-80ee-407b-9a01-871675633e84",
     "showTitle": false,
     "title": ""
    }
   },
   "outputs": [],
   "source": [
    "from pyspark.sql.functions import *"
   ]
  },
  {
   "cell_type": "code",
   "execution_count": 0,
   "metadata": {
    "application/vnd.databricks.v1+cell": {
     "cellMetadata": {
      "byteLimit": 2048000,
      "rowLimit": 10000
     },
     "inputWidgets": {},
     "nuid": "7a04449a-9012-4317-8a67-d25bc556d963",
     "showTitle": false,
     "title": ""
    }
   },
   "outputs": [
    {
     "output_type": "stream",
     "name": "stdout",
     "output_type": "stream",
     "text": [
      "Verifying the shape of dataset\n"
     ]
    },
    {
     "output_type": "execute_result",
     "data": {
      "text/plain": [
       "(1025, 14)"
      ]
     },
     "execution_count": 9,
     "metadata": {},
     "output_type": "execute_result"
    }
   ],
   "source": [
    "print(\"Verifying the shape of dataset\")\n",
    "df.count(), len(df.columns)"
   ]
  },
  {
   "cell_type": "code",
   "execution_count": 0,
   "metadata": {
    "application/vnd.databricks.v1+cell": {
     "cellMetadata": {
      "byteLimit": 2048000,
      "rowLimit": 10000
     },
     "inputWidgets": {},
     "nuid": "f8b65eb8-8b17-476f-a57c-30e7ea4fa9d1",
     "showTitle": false,
     "title": ""
    }
   },
   "outputs": [
    {
     "output_type": "stream",
     "name": "stdout",
     "output_type": "stream",
     "text": [
      "Gathering information\n"
     ]
    },
    {
     "output_type": "display_data",
     "data": {
      "text/html": [
       "<style scoped>\n",
       "  .table-result-container {\n",
       "    max-height: 300px;\n",
       "    overflow: auto;\n",
       "  }\n",
       "  table, th, td {\n",
       "    border: 1px solid black;\n",
       "    border-collapse: collapse;\n",
       "  }\n",
       "  th, td {\n",
       "    padding: 5px;\n",
       "  }\n",
       "  th {\n",
       "    text-align: left;\n",
       "  }\n",
       "</style><div class='table-result-container'><table class='table-result'><thead style='background-color: white'><tr><th>summary</th><th>age</th><th>sex</th><th>cp</th><th>trestbps</th><th>chol</th><th>fbs</th><th>restecg</th><th>thalach</th><th>exang</th><th>oldpeak</th><th>slope</th><th>ca</th><th>thal</th><th>target</th></tr></thead><tbody><tr><td>count</td><td>1025</td><td>1025</td><td>1025</td><td>1025</td><td>1025</td><td>1025</td><td>1025</td><td>1025</td><td>1025</td><td>1025</td><td>1025</td><td>1025</td><td>1025</td><td>1025</td></tr><tr><td>mean</td><td>54.43414634146342</td><td>0.6956097560975609</td><td>0.9424390243902439</td><td>131.61170731707318</td><td>246.0</td><td>0.14926829268292682</td><td>0.5297560975609756</td><td>149.11414634146342</td><td>0.33658536585365856</td><td>1.0715121951219513</td><td>1.3853658536585365</td><td>0.7541463414634146</td><td>2.32390243902439</td><td>0.5131707317073171</td></tr><tr><td>stddev</td><td>9.072290233244276</td><td>0.46037332411964915</td><td>1.029640743645865</td><td>17.516718005376408</td><td>51.59251020618206</td><td>0.3565266897271576</td><td>0.527877566874892</td><td>23.00572374597721</td><td>0.47277237600371186</td><td>1.175053255150176</td><td>0.6177552671745917</td><td>1.030797665024282</td><td>0.6206602380510299</td><td>0.5000704980788013</td></tr><tr><td>min</td><td>29</td><td>0</td><td>0</td><td>94</td><td>126</td><td>0</td><td>0</td><td>71</td><td>0</td><td>0.0</td><td>0</td><td>0</td><td>0</td><td>0</td></tr><tr><td>max</td><td>77</td><td>1</td><td>3</td><td>200</td><td>564</td><td>1</td><td>2</td><td>202</td><td>1</td><td>6.2</td><td>2</td><td>4</td><td>3</td><td>1</td></tr></tbody></table></div>"
      ]
     },
     "metadata": {
      "application/vnd.databricks.v1+output": {
       "addedWidgets": {},
       "aggData": [],
       "aggError": "",
       "aggOverflow": false,
       "aggSchema": [],
       "aggSeriesLimitReached": false,
       "aggType": "",
       "arguments": {},
       "columnCustomDisplayInfos": {},
       "data": [
        [
         "count",
         "1025",
         "1025",
         "1025",
         "1025",
         "1025",
         "1025",
         "1025",
         "1025",
         "1025",
         "1025",
         "1025",
         "1025",
         "1025",
         "1025"
        ],
        [
         "mean",
         "54.43414634146342",
         "0.6956097560975609",
         "0.9424390243902439",
         "131.61170731707318",
         "246.0",
         "0.14926829268292682",
         "0.5297560975609756",
         "149.11414634146342",
         "0.33658536585365856",
         "1.0715121951219513",
         "1.3853658536585365",
         "0.7541463414634146",
         "2.32390243902439",
         "0.5131707317073171"
        ],
        [
         "stddev",
         "9.072290233244276",
         "0.46037332411964915",
         "1.029640743645865",
         "17.516718005376408",
         "51.59251020618206",
         "0.3565266897271576",
         "0.527877566874892",
         "23.00572374597721",
         "0.47277237600371186",
         "1.175053255150176",
         "0.6177552671745917",
         "1.030797665024282",
         "0.6206602380510299",
         "0.5000704980788013"
        ],
        [
         "min",
         "29",
         "0",
         "0",
         "94",
         "126",
         "0",
         "0",
         "71",
         "0",
         "0.0",
         "0",
         "0",
         "0",
         "0"
        ],
        [
         "max",
         "77",
         "1",
         "3",
         "200",
         "564",
         "1",
         "2",
         "202",
         "1",
         "6.2",
         "2",
         "4",
         "3",
         "1"
        ]
       ],
       "datasetInfos": [],
       "dbfsResultPath": null,
       "isJsonSchema": true,
       "metadata": {},
       "overflow": false,
       "plotOptions": {
        "customPlotOptions": {},
        "displayType": "table",
        "pivotAggregation": null,
        "pivotColumns": null,
        "xColumns": null,
        "yColumns": null
       },
       "removedWidgets": [],
       "schema": [
        {
         "metadata": "{}",
         "name": "summary",
         "type": "\"string\""
        },
        {
         "metadata": "{}",
         "name": "age",
         "type": "\"string\""
        },
        {
         "metadata": "{}",
         "name": "sex",
         "type": "\"string\""
        },
        {
         "metadata": "{}",
         "name": "cp",
         "type": "\"string\""
        },
        {
         "metadata": "{}",
         "name": "trestbps",
         "type": "\"string\""
        },
        {
         "metadata": "{}",
         "name": "chol",
         "type": "\"string\""
        },
        {
         "metadata": "{}",
         "name": "fbs",
         "type": "\"string\""
        },
        {
         "metadata": "{}",
         "name": "restecg",
         "type": "\"string\""
        },
        {
         "metadata": "{}",
         "name": "thalach",
         "type": "\"string\""
        },
        {
         "metadata": "{}",
         "name": "exang",
         "type": "\"string\""
        },
        {
         "metadata": "{}",
         "name": "oldpeak",
         "type": "\"string\""
        },
        {
         "metadata": "{}",
         "name": "slope",
         "type": "\"string\""
        },
        {
         "metadata": "{}",
         "name": "ca",
         "type": "\"string\""
        },
        {
         "metadata": "{}",
         "name": "thal",
         "type": "\"string\""
        },
        {
         "metadata": "{}",
         "name": "target",
         "type": "\"string\""
        }
       ],
       "type": "table"
      }
     },
     "output_type": "display_data"
    }
   ],
   "source": [
    "print(\"Gathering information\")\n",
    "display(df.describe())"
   ]
  },
  {
   "cell_type": "code",
   "execution_count": 0,
   "metadata": {
    "application/vnd.databricks.v1+cell": {
     "cellMetadata": {
      "byteLimit": 2048000,
      "rowLimit": 10000
     },
     "inputWidgets": {},
     "nuid": "d2d5aa0f-5eed-4c40-aed7-cf2236f5e5fe",
     "showTitle": false,
     "title": ""
    }
   },
   "outputs": [
    {
     "output_type": "stream",
     "name": "stdout",
     "output_type": "stream",
     "text": [
      "Gathering more information\n"
     ]
    },
    {
     "output_type": "display_data",
     "data": {
      "text/html": [
       "<style scoped>\n",
       "  .table-result-container {\n",
       "    max-height: 300px;\n",
       "    overflow: auto;\n",
       "  }\n",
       "  table, th, td {\n",
       "    border: 1px solid black;\n",
       "    border-collapse: collapse;\n",
       "  }\n",
       "  th, td {\n",
       "    padding: 5px;\n",
       "  }\n",
       "  th {\n",
       "    text-align: left;\n",
       "  }\n",
       "</style><div class='table-result-container'><table class='table-result'><thead style='background-color: white'><tr><th>summary</th><th>age</th><th>sex</th><th>cp</th><th>trestbps</th><th>chol</th><th>fbs</th><th>restecg</th><th>thalach</th><th>exang</th><th>oldpeak</th><th>slope</th><th>ca</th><th>thal</th><th>target</th></tr></thead><tbody><tr><td>count</td><td>1025</td><td>1025</td><td>1025</td><td>1025</td><td>1025</td><td>1025</td><td>1025</td><td>1025</td><td>1025</td><td>1025</td><td>1025</td><td>1025</td><td>1025</td><td>1025</td></tr><tr><td>mean</td><td>54.43414634146342</td><td>0.6956097560975609</td><td>0.9424390243902439</td><td>131.61170731707318</td><td>246.0</td><td>0.14926829268292682</td><td>0.5297560975609756</td><td>149.11414634146342</td><td>0.33658536585365856</td><td>1.0715121951219513</td><td>1.3853658536585365</td><td>0.7541463414634146</td><td>2.32390243902439</td><td>0.5131707317073171</td></tr><tr><td>stddev</td><td>9.072290233244276</td><td>0.46037332411964915</td><td>1.029640743645865</td><td>17.516718005376408</td><td>51.59251020618206</td><td>0.3565266897271576</td><td>0.527877566874892</td><td>23.00572374597721</td><td>0.47277237600371186</td><td>1.175053255150176</td><td>0.6177552671745917</td><td>1.030797665024282</td><td>0.6206602380510299</td><td>0.5000704980788013</td></tr><tr><td>min</td><td>29</td><td>0</td><td>0</td><td>94</td><td>126</td><td>0</td><td>0</td><td>71</td><td>0</td><td>0.0</td><td>0</td><td>0</td><td>0</td><td>0</td></tr><tr><td>25%</td><td>48</td><td>0</td><td>0</td><td>120</td><td>211</td><td>0</td><td>0</td><td>132</td><td>0</td><td>0.0</td><td>1</td><td>0</td><td>2</td><td>0</td></tr><tr><td>50%</td><td>56</td><td>1</td><td>1</td><td>130</td><td>240</td><td>0</td><td>1</td><td>152</td><td>0</td><td>0.8</td><td>1</td><td>0</td><td>2</td><td>1</td></tr><tr><td>75%</td><td>61</td><td>1</td><td>2</td><td>140</td><td>275</td><td>0</td><td>1</td><td>166</td><td>1</td><td>1.8</td><td>2</td><td>1</td><td>3</td><td>1</td></tr><tr><td>max</td><td>77</td><td>1</td><td>3</td><td>200</td><td>564</td><td>1</td><td>2</td><td>202</td><td>1</td><td>6.2</td><td>2</td><td>4</td><td>3</td><td>1</td></tr></tbody></table></div>"
      ]
     },
     "metadata": {
      "application/vnd.databricks.v1+output": {
       "addedWidgets": {},
       "aggData": [],
       "aggError": "",
       "aggOverflow": false,
       "aggSchema": [],
       "aggSeriesLimitReached": false,
       "aggType": "",
       "arguments": {},
       "columnCustomDisplayInfos": {},
       "data": [
        [
         "count",
         "1025",
         "1025",
         "1025",
         "1025",
         "1025",
         "1025",
         "1025",
         "1025",
         "1025",
         "1025",
         "1025",
         "1025",
         "1025",
         "1025"
        ],
        [
         "mean",
         "54.43414634146342",
         "0.6956097560975609",
         "0.9424390243902439",
         "131.61170731707318",
         "246.0",
         "0.14926829268292682",
         "0.5297560975609756",
         "149.11414634146342",
         "0.33658536585365856",
         "1.0715121951219513",
         "1.3853658536585365",
         "0.7541463414634146",
         "2.32390243902439",
         "0.5131707317073171"
        ],
        [
         "stddev",
         "9.072290233244276",
         "0.46037332411964915",
         "1.029640743645865",
         "17.516718005376408",
         "51.59251020618206",
         "0.3565266897271576",
         "0.527877566874892",
         "23.00572374597721",
         "0.47277237600371186",
         "1.175053255150176",
         "0.6177552671745917",
         "1.030797665024282",
         "0.6206602380510299",
         "0.5000704980788013"
        ],
        [
         "min",
         "29",
         "0",
         "0",
         "94",
         "126",
         "0",
         "0",
         "71",
         "0",
         "0.0",
         "0",
         "0",
         "0",
         "0"
        ],
        [
         "25%",
         "48",
         "0",
         "0",
         "120",
         "211",
         "0",
         "0",
         "132",
         "0",
         "0.0",
         "1",
         "0",
         "2",
         "0"
        ],
        [
         "50%",
         "56",
         "1",
         "1",
         "130",
         "240",
         "0",
         "1",
         "152",
         "0",
         "0.8",
         "1",
         "0",
         "2",
         "1"
        ],
        [
         "75%",
         "61",
         "1",
         "2",
         "140",
         "275",
         "0",
         "1",
         "166",
         "1",
         "1.8",
         "2",
         "1",
         "3",
         "1"
        ],
        [
         "max",
         "77",
         "1",
         "3",
         "200",
         "564",
         "1",
         "2",
         "202",
         "1",
         "6.2",
         "2",
         "4",
         "3",
         "1"
        ]
       ],
       "datasetInfos": [],
       "dbfsResultPath": null,
       "isJsonSchema": true,
       "metadata": {},
       "overflow": false,
       "plotOptions": {
        "customPlotOptions": {},
        "displayType": "table",
        "pivotAggregation": null,
        "pivotColumns": null,
        "xColumns": null,
        "yColumns": null
       },
       "removedWidgets": [],
       "schema": [
        {
         "metadata": "{}",
         "name": "summary",
         "type": "\"string\""
        },
        {
         "metadata": "{}",
         "name": "age",
         "type": "\"string\""
        },
        {
         "metadata": "{}",
         "name": "sex",
         "type": "\"string\""
        },
        {
         "metadata": "{}",
         "name": "cp",
         "type": "\"string\""
        },
        {
         "metadata": "{}",
         "name": "trestbps",
         "type": "\"string\""
        },
        {
         "metadata": "{}",
         "name": "chol",
         "type": "\"string\""
        },
        {
         "metadata": "{}",
         "name": "fbs",
         "type": "\"string\""
        },
        {
         "metadata": "{}",
         "name": "restecg",
         "type": "\"string\""
        },
        {
         "metadata": "{}",
         "name": "thalach",
         "type": "\"string\""
        },
        {
         "metadata": "{}",
         "name": "exang",
         "type": "\"string\""
        },
        {
         "metadata": "{}",
         "name": "oldpeak",
         "type": "\"string\""
        },
        {
         "metadata": "{}",
         "name": "slope",
         "type": "\"string\""
        },
        {
         "metadata": "{}",
         "name": "ca",
         "type": "\"string\""
        },
        {
         "metadata": "{}",
         "name": "thal",
         "type": "\"string\""
        },
        {
         "metadata": "{}",
         "name": "target",
         "type": "\"string\""
        }
       ],
       "type": "table"
      }
     },
     "output_type": "display_data"
    }
   ],
   "source": [
    "print(\"Gathering more information\")\n",
    "display(df.summary())"
   ]
  },
  {
   "cell_type": "code",
   "execution_count": 0,
   "metadata": {
    "application/vnd.databricks.v1+cell": {
     "cellMetadata": {
      "byteLimit": 2048000,
      "rowLimit": 10000
     },
     "inputWidgets": {},
     "nuid": "40dc471b-f185-45f8-889d-ae6fb97dce19",
     "showTitle": false,
     "title": ""
    }
   },
   "outputs": [
    {
     "output_type": "stream",
     "name": "stdout",
     "output_type": "stream",
     "text": [
      "Checking for null values\n"
     ]
    },
    {
     "output_type": "display_data",
     "data": {
      "text/html": [
       "<style scoped>\n",
       "  .table-result-container {\n",
       "    max-height: 300px;\n",
       "    overflow: auto;\n",
       "  }\n",
       "  table, th, td {\n",
       "    border: 1px solid black;\n",
       "    border-collapse: collapse;\n",
       "  }\n",
       "  th, td {\n",
       "    padding: 5px;\n",
       "  }\n",
       "  th {\n",
       "    text-align: left;\n",
       "  }\n",
       "</style><div class='table-result-container'><table class='table-result'><thead style='background-color: white'><tr><th>age</th><th>sex</th><th>cp</th><th>trestbps</th><th>chol</th><th>fbs</th><th>restecg</th><th>thalach</th><th>exang</th><th>oldpeak</th><th>slope</th><th>ca</th><th>thal</th><th>target</th></tr></thead><tbody><tr><td>0</td><td>0</td><td>0</td><td>0</td><td>0</td><td>0</td><td>0</td><td>0</td><td>0</td><td>0</td><td>0</td><td>0</td><td>0</td><td>0</td></tr></tbody></table></div>"
      ]
     },
     "metadata": {
      "application/vnd.databricks.v1+output": {
       "addedWidgets": {},
       "aggData": [],
       "aggError": "",
       "aggOverflow": false,
       "aggSchema": [],
       "aggSeriesLimitReached": false,
       "aggType": "",
       "arguments": {},
       "columnCustomDisplayInfos": {},
       "data": [
        [
         0,
         0,
         0,
         0,
         0,
         0,
         0,
         0,
         0,
         0,
         0,
         0,
         0,
         0
        ]
       ],
       "datasetInfos": [],
       "dbfsResultPath": null,
       "isJsonSchema": true,
       "metadata": {},
       "overflow": false,
       "plotOptions": {
        "customPlotOptions": {},
        "displayType": "table",
        "pivotAggregation": null,
        "pivotColumns": null,
        "xColumns": null,
        "yColumns": null
       },
       "removedWidgets": [],
       "schema": [
        {
         "metadata": "{}",
         "name": "age",
         "type": "\"long\""
        },
        {
         "metadata": "{}",
         "name": "sex",
         "type": "\"long\""
        },
        {
         "metadata": "{}",
         "name": "cp",
         "type": "\"long\""
        },
        {
         "metadata": "{}",
         "name": "trestbps",
         "type": "\"long\""
        },
        {
         "metadata": "{}",
         "name": "chol",
         "type": "\"long\""
        },
        {
         "metadata": "{}",
         "name": "fbs",
         "type": "\"long\""
        },
        {
         "metadata": "{}",
         "name": "restecg",
         "type": "\"long\""
        },
        {
         "metadata": "{}",
         "name": "thalach",
         "type": "\"long\""
        },
        {
         "metadata": "{}",
         "name": "exang",
         "type": "\"long\""
        },
        {
         "metadata": "{}",
         "name": "oldpeak",
         "type": "\"long\""
        },
        {
         "metadata": "{}",
         "name": "slope",
         "type": "\"long\""
        },
        {
         "metadata": "{}",
         "name": "ca",
         "type": "\"long\""
        },
        {
         "metadata": "{}",
         "name": "thal",
         "type": "\"long\""
        },
        {
         "metadata": "{}",
         "name": "target",
         "type": "\"long\""
        }
       ],
       "type": "table"
      }
     },
     "output_type": "display_data"
    }
   ],
   "source": [
    "print(\"Checking for null values\")\n",
    "null_counts = df.select([count(when(col(c).isNull() | isnan(col(c)), c)).alias(c) for c in df.columns])\n",
    "display(null_counts)\n"
   ]
  },
  {
   "cell_type": "code",
   "execution_count": 0,
   "metadata": {
    "application/vnd.databricks.v1+cell": {
     "cellMetadata": {
      "byteLimit": 2048000,
      "rowLimit": 10000
     },
     "inputWidgets": {},
     "nuid": "a4661af5-6053-452d-9fa7-25c26148c9c1",
     "showTitle": false,
     "title": ""
    }
   },
   "outputs": [
    {
     "output_type": "stream",
     "name": "stdout",
     "output_type": "stream",
     "text": [
      "Droping duplicated values\n"
     ]
    }
   ],
   "source": [
    "print(\"Droping duplicated values\")\n",
    "df = df.dropDuplicates()"
   ]
  },
  {
   "cell_type": "code",
   "execution_count": 0,
   "metadata": {
    "application/vnd.databricks.v1+cell": {
     "cellMetadata": {
      "byteLimit": 2048000,
      "rowLimit": 10000
     },
     "inputWidgets": {},
     "nuid": "36836660-d44e-4e8d-a855-c9f5151f0fdf",
     "showTitle": false,
     "title": ""
    }
   },
   "outputs": [
    {
     "output_type": "stream",
     "name": "stdout",
     "output_type": "stream",
     "text": [
      "Adding categorical values for sex column\n"
     ]
    }
   ],
   "source": [
    "print(\"Adding categorical values for sex column\")\n",
    "df = df.withColumn(\"descritive_sex\", when(col(\"sex\") == 0, \"Feminino\").otherwise(\"Masculino\"))"
   ]
  },
  {
   "cell_type": "code",
   "execution_count": 0,
   "metadata": {
    "application/vnd.databricks.v1+cell": {
     "cellMetadata": {
      "byteLimit": 2048000,
      "rowLimit": 10000
     },
     "inputWidgets": {},
     "nuid": "a24c0e18-9658-4997-8e1a-c4fddbe62db6",
     "showTitle": false,
     "title": ""
    }
   },
   "outputs": [
    {
     "output_type": "stream",
     "name": "stdout",
     "output_type": "stream",
     "text": [
      "Changing numeric values for descritive ones for target column\n"
     ]
    }
   ],
   "source": [
    "print(\"Changing numeric values for descritive ones for target column\")\n",
    "df = df.withColumn(\"target\", when(col(\"target\") == 1, \"Tendência de ataque do coração\").otherwise(\"Sem tendência de ataque do coração\"))"
   ]
  },
  {
   "cell_type": "code",
   "execution_count": 0,
   "metadata": {
    "application/vnd.databricks.v1+cell": {
     "cellMetadata": {
      "byteLimit": 2048000,
      "rowLimit": 10000
     },
     "inputWidgets": {},
     "nuid": "06999245-909b-41b9-9076-b67574d8782a",
     "showTitle": false,
     "title": ""
    }
   },
   "outputs": [
    {
     "output_type": "stream",
     "name": "stdout",
     "output_type": "stream",
     "text": [
      "Updating table heart after drop duplicates\n"
     ]
    }
   ],
   "source": [
    "print(\"Updating table heart after drop duplicates\")\n",
    "df.createOrReplaceTempView(\"heart\")"
   ]
  },
  {
   "cell_type": "markdown",
   "metadata": {
    "application/vnd.databricks.v1+cell": {
     "cellMetadata": {
      "byteLimit": 2048000,
      "rowLimit": 10000
     },
     "inputWidgets": {},
     "nuid": "9e642c3a-d879-4492-9a43-90a01f4a7265",
     "showTitle": false,
     "title": ""
    }
   },
   "source": [
    "### Perguntas"
   ]
  },
  {
   "cell_type": "markdown",
   "metadata": {
    "application/vnd.databricks.v1+cell": {
     "cellMetadata": {
      "byteLimit": 2048000,
      "rowLimit": 10000
     },
     "inputWidgets": {},
     "nuid": "b6c3a843-87b3-4edb-9d76-6e270170db38",
     "showTitle": false,
     "title": ""
    }
   },
   "source": [
    "#### Q1. Qual a distribuição entre pessoas do sexo masculino e feminino?"
   ]
  },
  {
   "cell_type": "code",
   "execution_count": 0,
   "metadata": {
    "application/vnd.databricks.v1+cell": {
     "cellMetadata": {
      "byteLimit": 2048000,
      "implicitDf": true,
      "rowLimit": 10000
     },
     "inputWidgets": {},
     "nuid": "4b9f30f0-85a6-443a-83b0-2c8d179cb595",
     "showTitle": false,
     "title": ""
    }
   },
   "outputs": [
    {
     "output_type": "display_data",
     "data": {
      "text/html": [
       "<style scoped>\n",
       "  .table-result-container {\n",
       "    max-height: 300px;\n",
       "    overflow: auto;\n",
       "  }\n",
       "  table, th, td {\n",
       "    border: 1px solid black;\n",
       "    border-collapse: collapse;\n",
       "  }\n",
       "  th, td {\n",
       "    padding: 5px;\n",
       "  }\n",
       "  th {\n",
       "    text-align: left;\n",
       "  }\n",
       "</style><div class='table-result-container'><table class='table-result'><thead style='background-color: white'><tr><th>SEX</th><th>TOTAL</th><th>PERCENTAGE</th></tr></thead><tbody><tr><td>Feminino</td><td>96</td><td>31.79</td></tr><tr><td>Masculino</td><td>206</td><td>68.21</td></tr></tbody></table></div>"
      ]
     },
     "metadata": {
      "application/vnd.databricks.v1+output": {
       "addedWidgets": {},
       "aggData": [],
       "aggError": "",
       "aggOverflow": false,
       "aggSchema": [],
       "aggSeriesLimitReached": false,
       "aggType": "",
       "arguments": {},
       "columnCustomDisplayInfos": {},
       "data": [
        [
         "Feminino",
         96,
         31.79
        ],
        [
         "Masculino",
         206,
         68.21
        ]
       ],
       "datasetInfos": [],
       "dbfsResultPath": null,
       "isJsonSchema": true,
       "metadata": {
        "dataframeName": "_sqldf",
        "executionCount": 17
       },
       "overflow": false,
       "plotOptions": {
        "customPlotOptions": {},
        "displayType": "table",
        "pivotAggregation": null,
        "pivotColumns": null,
        "xColumns": null,
        "yColumns": null
       },
       "removedWidgets": [],
       "schema": [
        {
         "metadata": "{}",
         "name": "SEX",
         "type": "\"string\""
        },
        {
         "metadata": "{}",
         "name": "TOTAL",
         "type": "\"long\""
        },
        {
         "metadata": "{}",
         "name": "PERCENTAGE",
         "type": "\"double\""
        }
       ],
       "type": "table"
      }
     },
     "output_type": "display_data"
    }
   ],
   "source": [
    "%sql\n",
    "SELECT \n",
    "    CASE \n",
    "        WHEN sex = 0 THEN \"Feminino\"\n",
    "        ELSE \"Masculino\"\n",
    "    END AS SEX, \n",
    "    COUNT(*) AS TOTAL,\n",
    "    ROUND((COUNT(*) / (SELECT COUNT(*) FROM heart)) * 100,2) AS PERCENTAGE FROM heart \n",
    "GROUP BY sex"
   ]
  },
  {
   "cell_type": "code",
   "execution_count": 0,
   "metadata": {
    "application/vnd.databricks.v1+cell": {
     "cellMetadata": {
      "byteLimit": 2048000,
      "rowLimit": 10000
     },
     "inputWidgets": {},
     "nuid": "36c646e0-ae87-4411-ae90-0c7063f3c578",
     "showTitle": false,
     "title": ""
    }
   },
   "outputs": [],
   "source": [
    "# Código em PySpark (DataFrames)\n",
    "\n",
    "total = df.count()\n",
    "\n",
    "q1 = df.groupBy(\"sex\") \\\n",
    "       .agg(\n",
    "            count(\"*\").alias(\"total\"),\n",
    "            round(count(\"*\") / total * 100, 2).alias(\"percentage\")\n",
    "           ) \\\n",
    "       .withColumn(\"sex\", when(col(\"sex\") == 0, \"Feminino\").otherwise(\"Masculino\"))"
   ]
  },
  {
   "cell_type": "markdown",
   "metadata": {
    "application/vnd.databricks.v1+cell": {
     "cellMetadata": {
      "byteLimit": 2048000,
      "rowLimit": 10000
     },
     "inputWidgets": {},
     "nuid": "bc7185de-25a4-4c11-8c21-77eea7defab1",
     "showTitle": false,
     "title": ""
    }
   },
   "source": [
    "#### Q2. Qual a quantidade entre pessoas do sexo masculino e feminino de apresentarem tendência de ataque do coração?"
   ]
  },
  {
   "cell_type": "code",
   "execution_count": 0,
   "metadata": {
    "application/vnd.databricks.v1+cell": {
     "cellMetadata": {
      "byteLimit": 2048000,
      "implicitDf": true,
      "rowLimit": 10000
     },
     "inputWidgets": {},
     "nuid": "8249d82e-985c-4e47-9e34-7b5e49374ed4",
     "showTitle": false,
     "title": ""
    }
   },
   "outputs": [
    {
     "output_type": "display_data",
     "data": {
      "text/html": [
       "<style scoped>\n",
       "  .table-result-container {\n",
       "    max-height: 300px;\n",
       "    overflow: auto;\n",
       "  }\n",
       "  table, th, td {\n",
       "    border: 1px solid black;\n",
       "    border-collapse: collapse;\n",
       "  }\n",
       "  th, td {\n",
       "    padding: 5px;\n",
       "  }\n",
       "  th {\n",
       "    text-align: left;\n",
       "  }\n",
       "</style><div class='table-result-container'><table class='table-result'><thead style='background-color: white'><tr><th>SEX</th><th>DIAGNOSTIC</th><th>TOTAL</th></tr></thead><tbody><tr><td>Feminino</td><td>Tendência de ataque do coração</td><td>72</td></tr><tr><td>Feminino</td><td>Sem tendência de ataque do coração</td><td>24</td></tr><tr><td>Masculino</td><td>Sem tendência de ataque do coração</td><td>114</td></tr><tr><td>Masculino</td><td>Tendência de ataque do coração</td><td>92</td></tr></tbody></table></div>"
      ]
     },
     "metadata": {
      "application/vnd.databricks.v1+output": {
       "addedWidgets": {},
       "aggData": [],
       "aggError": "",
       "aggOverflow": false,
       "aggSchema": [],
       "aggSeriesLimitReached": false,
       "aggType": "",
       "arguments": {},
       "columnCustomDisplayInfos": {},
       "data": [
        [
         "Feminino",
         "Tendência de ataque do coração",
         72
        ],
        [
         "Feminino",
         "Sem tendência de ataque do coração",
         24
        ],
        [
         "Masculino",
         "Sem tendência de ataque do coração",
         114
        ],
        [
         "Masculino",
         "Tendência de ataque do coração",
         92
        ]
       ],
       "datasetInfos": [],
       "dbfsResultPath": null,
       "isJsonSchema": true,
       "metadata": {
        "dataframeName": "_sqldf",
        "executionCount": 19
       },
       "overflow": false,
       "plotOptions": {
        "customPlotOptions": {},
        "displayType": "table",
        "pivotAggregation": null,
        "pivotColumns": null,
        "xColumns": null,
        "yColumns": null
       },
       "removedWidgets": [],
       "schema": [
        {
         "metadata": "{}",
         "name": "SEX",
         "type": "\"string\""
        },
        {
         "metadata": "{}",
         "name": "DIAGNOSTIC",
         "type": "\"string\""
        },
        {
         "metadata": "{}",
         "name": "TOTAL",
         "type": "\"long\""
        }
       ],
       "type": "table"
      }
     },
     "output_type": "display_data"
    }
   ],
   "source": [
    "%sql\n",
    "SELECT \n",
    "  CASE\n",
    "    WHEN sex = 0 THEN \"Feminino\"\n",
    "    ELSE \"Masculino\"\n",
    "  END AS SEX, target AS DIAGNOSTIC, COUNT(*) AS TOTAL\n",
    "FROM heart \n",
    "GROUP BY sex, target"
   ]
  },
  {
   "cell_type": "code",
   "execution_count": 0,
   "metadata": {
    "application/vnd.databricks.v1+cell": {
     "cellMetadata": {
      "byteLimit": 2048000,
      "rowLimit": 10000
     },
     "inputWidgets": {},
     "nuid": "e5e64859-48be-4db9-a4d5-4539c2faa2ee",
     "showTitle": false,
     "title": ""
    }
   },
   "outputs": [],
   "source": [
    "# Código em PySpark (DataFrames)\n",
    "q2 = df.groupBy(\"sex\", \"target\") \\\n",
    "       .count() \\\n",
    "       .withColumnRenamed(\"target\", \"diagnostic\") \\\n",
    "       .withColumnRenamed(\"count\", \"total\") \\\n",
    "       .withColumn(\"sex\", when(col(\"sex\") == 0, \"Feminino\").otherwise(\"Masculino\"))"
   ]
  },
  {
   "cell_type": "markdown",
   "metadata": {
    "application/vnd.databricks.v1+cell": {
     "cellMetadata": {
      "byteLimit": 2048000,
      "rowLimit": 10000
     },
     "inputWidgets": {},
     "nuid": "37e16cab-ad45-4732-b922-69b19a9dedb5",
     "showTitle": false,
     "title": ""
    }
   },
   "source": [
    "#### Q3. Qual a quantidade da tendência de ataque do coração por tipo de dor no peito?"
   ]
  },
  {
   "cell_type": "code",
   "execution_count": 0,
   "metadata": {
    "application/vnd.databricks.v1+cell": {
     "cellMetadata": {
      "byteLimit": 2048000,
      "implicitDf": true,
      "rowLimit": 10000
     },
     "inputWidgets": {},
     "nuid": "102d2875-5ac6-4e44-8755-324dc3c3c495",
     "showTitle": false,
     "title": ""
    }
   },
   "outputs": [
    {
     "output_type": "display_data",
     "data": {
      "text/html": [
       "<style scoped>\n",
       "  .table-result-container {\n",
       "    max-height: 300px;\n",
       "    overflow: auto;\n",
       "  }\n",
       "  table, th, td {\n",
       "    border: 1px solid black;\n",
       "    border-collapse: collapse;\n",
       "  }\n",
       "  th, td {\n",
       "    padding: 5px;\n",
       "  }\n",
       "  th {\n",
       "    text-align: left;\n",
       "  }\n",
       "</style><div class='table-result-container'><table class='table-result'><thead style='background-color: white'><tr><th>TIPO_DOR</th><th>TOTAL</th></tr></thead><tbody><tr><td>2</td><td>68</td></tr><tr><td>1</td><td>41</td></tr><tr><td>0</td><td>39</td></tr><tr><td>3</td><td>16</td></tr></tbody></table></div>"
      ]
     },
     "metadata": {
      "application/vnd.databricks.v1+output": {
       "addedWidgets": {},
       "aggData": [],
       "aggError": "",
       "aggOverflow": false,
       "aggSchema": [],
       "aggSeriesLimitReached": false,
       "aggType": "",
       "arguments": {},
       "columnCustomDisplayInfos": {},
       "data": [
        [
         2,
         68
        ],
        [
         1,
         41
        ],
        [
         0,
         39
        ],
        [
         3,
         16
        ]
       ],
       "datasetInfos": [],
       "dbfsResultPath": null,
       "isJsonSchema": true,
       "metadata": {
        "dataframeName": "_sqldf",
        "executionCount": 21
       },
       "overflow": false,
       "plotOptions": {
        "customPlotOptions": {},
        "displayType": "table",
        "pivotAggregation": null,
        "pivotColumns": null,
        "xColumns": null,
        "yColumns": null
       },
       "removedWidgets": [],
       "schema": [
        {
         "metadata": "{}",
         "name": "TIPO_DOR",
         "type": "\"long\""
        },
        {
         "metadata": "{}",
         "name": "TOTAL",
         "type": "\"long\""
        }
       ],
       "type": "table"
      }
     },
     "output_type": "display_data"
    }
   ],
   "source": [
    "%sql\n",
    "SELECT cp AS TIPO_DOR, COUNT(target) AS TOTAL\n",
    "FROM heart \n",
    "WHERE target = 'Tendência de ataque do coração'\n",
    "GROUP BY cp\n",
    "ORDER BY TOTAL DESC"
   ]
  },
  {
   "cell_type": "code",
   "execution_count": 0,
   "metadata": {
    "application/vnd.databricks.v1+cell": {
     "cellMetadata": {
      "byteLimit": 2048000,
      "rowLimit": 10000
     },
     "inputWidgets": {},
     "nuid": "c879131a-b102-4c92-a02f-0aaac8fb4289",
     "showTitle": false,
     "title": ""
    }
   },
   "outputs": [],
   "source": [
    "# Código em PySpark (DataFrames)\n",
    "q3 = df.filter(col(\"target\") == \"Tendência de ataque do coração\") \\\n",
    "       .groupBy(\"cp\") \\\n",
    "       .count() \\\n",
    "       .withColumnRenamed(\"cp\", \"tipo_dor\") \\\n",
    "       .withColumnRenamed(\"count\", \"total\") \\\n",
    "       .orderBy(desc(\"total\"))"
   ]
  },
  {
   "cell_type": "markdown",
   "metadata": {
    "application/vnd.databricks.v1+cell": {
     "cellMetadata": {
      "byteLimit": 2048000,
      "rowLimit": 10000
     },
     "inputWidgets": {},
     "nuid": "f517f47e-f165-49f8-b351-e786c03692fa",
     "showTitle": false,
     "title": ""
    }
   },
   "source": [
    "#### Q4. Qual a quantidade de pessoas do sexo masculino e feminino por nível de talassemia? "
   ]
  },
  {
   "cell_type": "code",
   "execution_count": 0,
   "metadata": {
    "application/vnd.databricks.v1+cell": {
     "cellMetadata": {
      "byteLimit": 2048000,
      "implicitDf": true,
      "rowLimit": 10000
     },
     "inputWidgets": {},
     "nuid": "bb3e8582-f367-48e5-80a5-0fea2374f482",
     "showTitle": false,
     "title": ""
    }
   },
   "outputs": [
    {
     "output_type": "display_data",
     "data": {
      "text/html": [
       "<style scoped>\n",
       "  .table-result-container {\n",
       "    max-height: 300px;\n",
       "    overflow: auto;\n",
       "  }\n",
       "  table, th, td {\n",
       "    border: 1px solid black;\n",
       "    border-collapse: collapse;\n",
       "  }\n",
       "  th, td {\n",
       "    padding: 5px;\n",
       "  }\n",
       "  th {\n",
       "    text-align: left;\n",
       "  }\n",
       "</style><div class='table-result-container'><table class='table-result'><thead style='background-color: white'><tr><th>SEXO</th><th>TALASSEMIA</th><th>TOTAL</th></tr></thead><tbody><tr><td>Masculino</td><td>0</td><td>1</td></tr><tr><td>Feminino</td><td>0</td><td>1</td></tr><tr><td>Feminino</td><td>1</td><td>1</td></tr><tr><td>Masculino</td><td>1</td><td>17</td></tr><tr><td>Feminino</td><td>2</td><td>79</td></tr><tr><td>Masculino</td><td>2</td><td>86</td></tr><tr><td>Feminino</td><td>3</td><td>15</td></tr><tr><td>Masculino</td><td>3</td><td>102</td></tr></tbody></table></div>"
      ]
     },
     "metadata": {
      "application/vnd.databricks.v1+output": {
       "addedWidgets": {},
       "aggData": [],
       "aggError": "",
       "aggOverflow": false,
       "aggSchema": [],
       "aggSeriesLimitReached": false,
       "aggType": "",
       "arguments": {},
       "columnCustomDisplayInfos": {},
       "data": [
        [
         "Masculino",
         0,
         1
        ],
        [
         "Feminino",
         0,
         1
        ],
        [
         "Feminino",
         1,
         1
        ],
        [
         "Masculino",
         1,
         17
        ],
        [
         "Feminino",
         2,
         79
        ],
        [
         "Masculino",
         2,
         86
        ],
        [
         "Feminino",
         3,
         15
        ],
        [
         "Masculino",
         3,
         102
        ]
       ],
       "datasetInfos": [],
       "dbfsResultPath": null,
       "isJsonSchema": true,
       "metadata": {
        "dataframeName": "_sqldf",
        "executionCount": 23
       },
       "overflow": false,
       "plotOptions": {
        "customPlotOptions": {},
        "displayType": "table",
        "pivotAggregation": null,
        "pivotColumns": null,
        "xColumns": null,
        "yColumns": null
       },
       "removedWidgets": [],
       "schema": [
        {
         "metadata": "{}",
         "name": "SEXO",
         "type": "\"string\""
        },
        {
         "metadata": "{}",
         "name": "TALASSEMIA",
         "type": "\"long\""
        },
        {
         "metadata": "{}",
         "name": "TOTAL",
         "type": "\"long\""
        }
       ],
       "type": "table"
      }
     },
     "output_type": "display_data"
    }
   ],
   "source": [
    "%sql\n",
    "SELECT \n",
    "  CASE \n",
    "    WHEN sex = 0 THEN \"Feminino\"\n",
    "    ELSE \"Masculino\"\n",
    "  END AS SEXO, thal AS TALASSEMIA, COUNT(*) AS TOTAL\n",
    "FROM heart\n",
    "GROUP BY sex, thal\n",
    "ORDER BY TALASSEMIA, TOTAL"
   ]
  },
  {
   "cell_type": "code",
   "execution_count": 0,
   "metadata": {
    "application/vnd.databricks.v1+cell": {
     "cellMetadata": {
      "byteLimit": 2048000,
      "implicitDf": true,
      "rowLimit": 10000
     },
     "inputWidgets": {},
     "nuid": "1fbe006a-6352-4e59-9885-e66a3d69e086",
     "showTitle": false,
     "title": ""
    }
   },
   "outputs": [],
   "source": [
    "# Código em PySpark (DataFrames)\n",
    "q4 = df.groupBy(\"sex\", \"thal\") \\\n",
    "       .count() \\\n",
    "       .withColumn(\"sex\", when(col(\"sex\") == 0, \"Feminino\").otherwise(\"Masculino\")) \\\n",
    "       .withColumnRenamed(\"thal\", \"talassemia\") \\\n",
    "       .withColumnRenamed(\"count\", \"total\") \\\n",
    "       .orderBy(\"talassemia\", \"total\")"
   ]
  },
  {
   "cell_type": "markdown",
   "metadata": {
    "application/vnd.databricks.v1+cell": {
     "cellMetadata": {
      "byteLimit": 2048000,
      "rowLimit": 10000
     },
     "inputWidgets": {},
     "nuid": "b8a48c6b-61da-4d27-bcb0-61af6cb1d117",
     "showTitle": false,
     "title": ""
    }
   },
   "source": [
    "#### Q5. Qual a quantidade da tendência de ataque do coração por slope?"
   ]
  },
  {
   "cell_type": "code",
   "execution_count": 0,
   "metadata": {
    "application/vnd.databricks.v1+cell": {
     "cellMetadata": {
      "byteLimit": 2048000,
      "implicitDf": true,
      "rowLimit": 10000
     },
     "inputWidgets": {},
     "nuid": "0e17d7f7-cb4a-46f3-8c52-6344179775de",
     "showTitle": false,
     "title": ""
    }
   },
   "outputs": [
    {
     "output_type": "display_data",
     "data": {
      "text/html": [
       "<style scoped>\n",
       "  .table-result-container {\n",
       "    max-height: 300px;\n",
       "    overflow: auto;\n",
       "  }\n",
       "  table, th, td {\n",
       "    border: 1px solid black;\n",
       "    border-collapse: collapse;\n",
       "  }\n",
       "  th, td {\n",
       "    padding: 5px;\n",
       "  }\n",
       "  th {\n",
       "    text-align: left;\n",
       "  }\n",
       "</style><div class='table-result-container'><table class='table-result'><thead style='background-color: white'><tr><th>SLOPE</th><th>DIAGNOSTIC</th><th>TOTAL</th></tr></thead><tbody><tr><td>0</td><td>Tendência de ataque do coração</td><td>9</td></tr><tr><td>0</td><td>Sem tendência de ataque do coração</td><td>12</td></tr><tr><td>1</td><td>Tendência de ataque do coração</td><td>49</td></tr><tr><td>1</td><td>Sem tendência de ataque do coração</td><td>91</td></tr><tr><td>2</td><td>Sem tendência de ataque do coração</td><td>35</td></tr><tr><td>2</td><td>Tendência de ataque do coração</td><td>106</td></tr></tbody></table></div>"
      ]
     },
     "metadata": {
      "application/vnd.databricks.v1+output": {
       "addedWidgets": {},
       "aggData": [],
       "aggError": "",
       "aggOverflow": false,
       "aggSchema": [],
       "aggSeriesLimitReached": false,
       "aggType": "",
       "arguments": {},
       "columnCustomDisplayInfos": {},
       "data": [
        [
         0,
         "Tendência de ataque do coração",
         9
        ],
        [
         0,
         "Sem tendência de ataque do coração",
         12
        ],
        [
         1,
         "Tendência de ataque do coração",
         49
        ],
        [
         1,
         "Sem tendência de ataque do coração",
         91
        ],
        [
         2,
         "Sem tendência de ataque do coração",
         35
        ],
        [
         2,
         "Tendência de ataque do coração",
         106
        ]
       ],
       "datasetInfos": [],
       "dbfsResultPath": null,
       "isJsonSchema": true,
       "metadata": {
        "dataframeName": "_sqldf",
        "executionCount": 25
       },
       "overflow": false,
       "plotOptions": {
        "customPlotOptions": {},
        "displayType": "table",
        "pivotAggregation": null,
        "pivotColumns": null,
        "xColumns": null,
        "yColumns": null
       },
       "removedWidgets": [],
       "schema": [
        {
         "metadata": "{}",
         "name": "SLOPE",
         "type": "\"long\""
        },
        {
         "metadata": "{}",
         "name": "DIAGNOSTIC",
         "type": "\"string\""
        },
        {
         "metadata": "{}",
         "name": "TOTAL",
         "type": "\"long\""
        }
       ],
       "type": "table"
      }
     },
     "output_type": "display_data"
    }
   ],
   "source": [
    "%sql\n",
    "SELECT slope AS SLOPE, target AS DIAGNOSTIC, COUNT(*) AS TOTAL\n",
    "FROM heart\n",
    "GROUP BY SLOPE, DIAGNOSTIC\n",
    "ORDER BY SLOPE, TOTAL"
   ]
  },
  {
   "cell_type": "code",
   "execution_count": 0,
   "metadata": {
    "application/vnd.databricks.v1+cell": {
     "cellMetadata": {
      "byteLimit": 2048000,
      "rowLimit": 10000
     },
     "inputWidgets": {},
     "nuid": "b9664c6d-4b4e-4480-a003-3689a4f8b965",
     "showTitle": false,
     "title": ""
    }
   },
   "outputs": [],
   "source": [
    "# Código em PySpark (DataFrames)\n",
    "q5 = df.groupBy(\"slope\", \"target\") \\\n",
    "       .count() \\\n",
    "       .withColumnRenamed(\"target\", \"diagnostic\") \\\n",
    "       .withColumnRenamed(\"count\", \"total\") \\\n",
    "       .orderBy(\"slope\", \"total\")"
   ]
  },
  {
   "cell_type": "markdown",
   "metadata": {
    "application/vnd.databricks.v1+cell": {
     "cellMetadata": {
      "byteLimit": 2048000,
      "rowLimit": 10000
     },
     "inputWidgets": {},
     "nuid": "53987762-149e-41ed-b132-6e54ea06f297",
     "showTitle": false,
     "title": ""
    }
   },
   "source": [
    "#### Q6. Quantas pessoas do sexo masculino e do sexo feminino tem entre 30 e 50 anos?"
   ]
  },
  {
   "cell_type": "code",
   "execution_count": 0,
   "metadata": {
    "application/vnd.databricks.v1+cell": {
     "cellMetadata": {
      "byteLimit": 2048000,
      "implicitDf": true,
      "rowLimit": 10000
     },
     "inputWidgets": {},
     "nuid": "6c6f22d5-ae3e-4d6f-a46c-55f7aa6e0924",
     "showTitle": false,
     "title": ""
    }
   },
   "outputs": [
    {
     "output_type": "display_data",
     "data": {
      "text/html": [
       "<style scoped>\n",
       "  .table-result-container {\n",
       "    max-height: 300px;\n",
       "    overflow: auto;\n",
       "  }\n",
       "  table, th, td {\n",
       "    border: 1px solid black;\n",
       "    border-collapse: collapse;\n",
       "  }\n",
       "  th, td {\n",
       "    padding: 5px;\n",
       "  }\n",
       "  th {\n",
       "    text-align: left;\n",
       "  }\n",
       "</style><div class='table-result-container'><table class='table-result'><thead style='background-color: white'><tr><th>SEX</th><th>AGE_GROUP</th></tr></thead><tbody><tr><td>Feminino</td><td>27</td></tr><tr><td>Masculino</td><td>66</td></tr></tbody></table></div>"
      ]
     },
     "metadata": {
      "application/vnd.databricks.v1+output": {
       "addedWidgets": {},
       "aggData": [],
       "aggError": "",
       "aggOverflow": false,
       "aggSchema": [],
       "aggSeriesLimitReached": false,
       "aggType": "",
       "arguments": {},
       "columnCustomDisplayInfos": {},
       "data": [
        [
         "Feminino",
         27
        ],
        [
         "Masculino",
         66
        ]
       ],
       "datasetInfos": [],
       "dbfsResultPath": null,
       "isJsonSchema": true,
       "metadata": {
        "dataframeName": "_sqldf",
        "executionCount": 27
       },
       "overflow": false,
       "plotOptions": {
        "customPlotOptions": {},
        "displayType": "table",
        "pivotAggregation": null,
        "pivotColumns": null,
        "xColumns": null,
        "yColumns": null
       },
       "removedWidgets": [],
       "schema": [
        {
         "metadata": "{}",
         "name": "SEX",
         "type": "\"string\""
        },
        {
         "metadata": "{}",
         "name": "AGE_GROUP",
         "type": "\"long\""
        }
       ],
       "type": "table"
      }
     },
     "output_type": "display_data"
    }
   ],
   "source": [
    "%sql\n",
    "SELECT \n",
    "  CASE \n",
    "    WHEN sex = 0 THEN \"Feminino\"\n",
    "    ELSE \"Masculino\"\n",
    "  END AS SEX,\n",
    "  COUNT(*) AS AGE_GROUP\n",
    "FROM heart \n",
    "WHERE age BETWEEN 30 AND 50\n",
    "GROUP BY sex"
   ]
  },
  {
   "cell_type": "code",
   "execution_count": 0,
   "metadata": {
    "application/vnd.databricks.v1+cell": {
     "cellMetadata": {
      "byteLimit": 2048000,
      "rowLimit": 10000
     },
     "inputWidgets": {},
     "nuid": "91e1ba88-0c8b-4a4b-ab7c-6aea9060d162",
     "showTitle": false,
     "title": ""
    }
   },
   "outputs": [],
   "source": [
    "# Código em PySpark (DataFrames)\n",
    "q6 = df.filter(col(\"age\").between(30, 50)) \\\n",
    "       .groupBy(\"sex\") \\\n",
    "       .count() \\\n",
    "       .withColumn(\"sex\", when(col(\"sex\") == 0, \"Feminino\").otherwise(\"Masculino\")) \\\n",
    "       .withColumnRenamed(\"count\", \"age_group\")"
   ]
  },
  {
   "cell_type": "markdown",
   "metadata": {
    "application/vnd.databricks.v1+cell": {
     "cellMetadata": {
      "byteLimit": 2048000,
      "rowLimit": 10000
     },
     "inputWidgets": {},
     "nuid": "f9f6c979-f07f-4eec-8904-4a5603877a65",
     "showTitle": false,
     "title": ""
    }
   },
   "source": [
    "#### Q7. Quantas pessoas, por sexo, abaixo dos 50 anos possem tendência de um ataque do coração?"
   ]
  },
  {
   "cell_type": "code",
   "execution_count": 0,
   "metadata": {
    "application/vnd.databricks.v1+cell": {
     "cellMetadata": {
      "byteLimit": 2048000,
      "implicitDf": true,
      "rowLimit": 10000
     },
     "inputWidgets": {},
     "nuid": "d0cc678b-12df-4e8a-b33e-89ecab161e1d",
     "showTitle": false,
     "title": ""
    }
   },
   "outputs": [
    {
     "output_type": "display_data",
     "data": {
      "text/html": [
       "<style scoped>\n",
       "  .table-result-container {\n",
       "    max-height: 300px;\n",
       "    overflow: auto;\n",
       "  }\n",
       "  table, th, td {\n",
       "    border: 1px solid black;\n",
       "    border-collapse: collapse;\n",
       "  }\n",
       "  th, td {\n",
       "    padding: 5px;\n",
       "  }\n",
       "  th {\n",
       "    text-align: left;\n",
       "  }\n",
       "</style><div class='table-result-container'><table class='table-result'><thead style='background-color: white'><tr><th>SEX</th><th>TOTAL</th></tr></thead><tbody><tr><td>Feminino</td><td>23</td></tr><tr><td>Masculino</td><td>38</td></tr></tbody></table></div>"
      ]
     },
     "metadata": {
      "application/vnd.databricks.v1+output": {
       "addedWidgets": {},
       "aggData": [],
       "aggError": "",
       "aggOverflow": false,
       "aggSchema": [],
       "aggSeriesLimitReached": false,
       "aggType": "",
       "arguments": {},
       "columnCustomDisplayInfos": {},
       "data": [
        [
         "Feminino",
         23
        ],
        [
         "Masculino",
         38
        ]
       ],
       "datasetInfos": [],
       "dbfsResultPath": null,
       "isJsonSchema": true,
       "metadata": {
        "dataframeName": "_sqldf",
        "executionCount": 29
       },
       "overflow": false,
       "plotOptions": {
        "customPlotOptions": {},
        "displayType": "table",
        "pivotAggregation": null,
        "pivotColumns": null,
        "xColumns": null,
        "yColumns": null
       },
       "removedWidgets": [],
       "schema": [
        {
         "metadata": "{}",
         "name": "SEX",
         "type": "\"string\""
        },
        {
         "metadata": "{}",
         "name": "TOTAL",
         "type": "\"long\""
        }
       ],
       "type": "table"
      }
     },
     "output_type": "display_data"
    }
   ],
   "source": [
    "%sql\n",
    "SELECT \n",
    "  CASE\n",
    "    WHEN sex = 0 THEN \"Feminino\"\n",
    "    ELSE \"Masculino\"\n",
    "  END AS SEX,\n",
    "  COUNT(*) AS TOTAL\n",
    "FROM heart \n",
    "WHERE age < 50 AND target = 'Tendência de ataque do coração'\n",
    "GROUP BY SEX"
   ]
  },
  {
   "cell_type": "code",
   "execution_count": 0,
   "metadata": {
    "application/vnd.databricks.v1+cell": {
     "cellMetadata": {
      "byteLimit": 2048000,
      "rowLimit": 10000
     },
     "inputWidgets": {},
     "nuid": "ac2410cf-cd84-475e-9d8e-f72a42422276",
     "showTitle": false,
     "title": ""
    }
   },
   "outputs": [],
   "source": [
    "# Código em PySpark (DataFrames)\n",
    "q7 = df.filter((col(\"age\") < 50) & (col(\"target\") == \"Tendência de ataque do coração\")) \\\n",
    "       .groupBy(\"sex\") \\\n",
    "       .count() \\\n",
    "       .withColumn(\"sex\", when(col(\"sex\") == 0, \"Feminino\").otherwise(\"Masculino\")) \\\n",
    "       .withColumnRenamed(\"count\", \"total\")"
   ]
  },
  {
   "cell_type": "markdown",
   "metadata": {
    "application/vnd.databricks.v1+cell": {
     "cellMetadata": {
      "byteLimit": 2048000,
      "rowLimit": 10000
     },
     "inputWidgets": {},
     "nuid": "455a1b71-fc66-4292-9940-c232f3b57ff6",
     "showTitle": false,
     "title": ""
    }
   },
   "source": [
    "#### Q8. Qual a média de idade das mulheres entrevistadas que não possuem tendência de sofrer de um ataque do coração?"
   ]
  },
  {
   "cell_type": "code",
   "execution_count": 0,
   "metadata": {
    "application/vnd.databricks.v1+cell": {
     "cellMetadata": {
      "byteLimit": 2048000,
      "implicitDf": true,
      "rowLimit": 10000
     },
     "inputWidgets": {},
     "nuid": "f0f31787-7f59-48d3-898f-484a982c9f65",
     "showTitle": false,
     "title": ""
    }
   },
   "outputs": [
    {
     "output_type": "display_data",
     "data": {
      "text/html": [
       "<style scoped>\n",
       "  .table-result-container {\n",
       "    max-height: 300px;\n",
       "    overflow: auto;\n",
       "  }\n",
       "  table, th, td {\n",
       "    border: 1px solid black;\n",
       "    border-collapse: collapse;\n",
       "  }\n",
       "  th, td {\n",
       "    padding: 5px;\n",
       "  }\n",
       "  th {\n",
       "    text-align: left;\n",
       "  }\n",
       "</style><div class='table-result-container'><table class='table-result'><thead style='background-color: white'><tr><th>AVERAGE_AGE</th></tr></thead><tbody><tr><td>59.04</td></tr></tbody></table></div>"
      ]
     },
     "metadata": {
      "application/vnd.databricks.v1+output": {
       "addedWidgets": {},
       "aggData": [],
       "aggError": "",
       "aggOverflow": false,
       "aggSchema": [],
       "aggSeriesLimitReached": false,
       "aggType": "",
       "arguments": {},
       "columnCustomDisplayInfos": {},
       "data": [
        [
         59.04
        ]
       ],
       "datasetInfos": [],
       "dbfsResultPath": null,
       "isJsonSchema": true,
       "metadata": {
        "dataframeName": "_sqldf",
        "executionCount": 31
       },
       "overflow": false,
       "plotOptions": {
        "customPlotOptions": {},
        "displayType": "table",
        "pivotAggregation": null,
        "pivotColumns": null,
        "xColumns": null,
        "yColumns": null
       },
       "removedWidgets": [],
       "schema": [
        {
         "metadata": "{}",
         "name": "AVERAGE_AGE",
         "type": "\"double\""
        }
       ],
       "type": "table"
      }
     },
     "output_type": "display_data"
    }
   ],
   "source": [
    "%sql\n",
    "SELECT ROUND(MEAN(age),2) AS AVERAGE_AGE\n",
    "FROM heart \n",
    "WHERE sex = 0 AND target <> 'Tendência de ataque do coração'"
   ]
  },
  {
   "cell_type": "code",
   "execution_count": 0,
   "metadata": {
    "application/vnd.databricks.v1+cell": {
     "cellMetadata": {
      "byteLimit": 2048000,
      "rowLimit": 10000
     },
     "inputWidgets": {},
     "nuid": "a01dee98-1d2d-423a-95b8-7234576e4f4f",
     "showTitle": false,
     "title": ""
    }
   },
   "outputs": [],
   "source": [
    "# Código em PySpark (DataFrames)\n",
    "q8 = df.filter((col(\"sex\") == 0) & (col(\"target\") != \"Tendência de ataque do coração\")) \\\n",
    "       .select(round(mean(\"age\"), 2).alias(\"average_age\"))"
   ]
  },
  {
   "cell_type": "markdown",
   "metadata": {
    "application/vnd.databricks.v1+cell": {
     "cellMetadata": {
      "byteLimit": 2048000,
      "rowLimit": 10000
     },
     "inputWidgets": {},
     "nuid": "9902b17d-ff7b-4d14-8c85-96c632c430b0",
     "showTitle": false,
     "title": ""
    }
   },
   "source": [
    "#### Q9. Qual a idade da pessoa mais nova e mais velha do conjunto de dados, por sexo?"
   ]
  },
  {
   "cell_type": "code",
   "execution_count": 0,
   "metadata": {
    "application/vnd.databricks.v1+cell": {
     "cellMetadata": {
      "byteLimit": 2048000,
      "implicitDf": true,
      "rowLimit": 10000
     },
     "inputWidgets": {},
     "nuid": "defb8931-dc3d-45ba-afd3-8b60f93fa7dd",
     "showTitle": false,
     "title": ""
    }
   },
   "outputs": [
    {
     "output_type": "display_data",
     "data": {
      "text/html": [
       "<style scoped>\n",
       "  .table-result-container {\n",
       "    max-height: 300px;\n",
       "    overflow: auto;\n",
       "  }\n",
       "  table, th, td {\n",
       "    border: 1px solid black;\n",
       "    border-collapse: collapse;\n",
       "  }\n",
       "  th, td {\n",
       "    padding: 5px;\n",
       "  }\n",
       "  th {\n",
       "    text-align: left;\n",
       "  }\n",
       "</style><div class='table-result-container'><table class='table-result'><thead style='background-color: white'><tr><th>SEX</th><th>PESSOA_MAIS_NOVO</th><th>PESSOA_MAIS_VELHA</th></tr></thead><tbody><tr><td>Feminino</td><td>34</td><td>76</td></tr><tr><td>Masculino</td><td>29</td><td>77</td></tr></tbody></table></div>"
      ]
     },
     "metadata": {
      "application/vnd.databricks.v1+output": {
       "addedWidgets": {},
       "aggData": [],
       "aggError": "",
       "aggOverflow": false,
       "aggSchema": [],
       "aggSeriesLimitReached": false,
       "aggType": "",
       "arguments": {},
       "columnCustomDisplayInfos": {},
       "data": [
        [
         "Feminino",
         34,
         76
        ],
        [
         "Masculino",
         29,
         77
        ]
       ],
       "datasetInfos": [],
       "dbfsResultPath": null,
       "isJsonSchema": true,
       "metadata": {
        "dataframeName": "_sqldf",
        "executionCount": 33
       },
       "overflow": false,
       "plotOptions": {
        "customPlotOptions": {},
        "displayType": "table",
        "pivotAggregation": null,
        "pivotColumns": null,
        "xColumns": null,
        "yColumns": null
       },
       "removedWidgets": [],
       "schema": [
        {
         "metadata": "{}",
         "name": "SEX",
         "type": "\"string\""
        },
        {
         "metadata": "{}",
         "name": "PESSOA_MAIS_NOVO",
         "type": "\"long\""
        },
        {
         "metadata": "{}",
         "name": "PESSOA_MAIS_VELHA",
         "type": "\"long\""
        }
       ],
       "type": "table"
      }
     },
     "output_type": "display_data"
    }
   ],
   "source": [
    "%sql\n",
    "SELECT \n",
    "  CASE \n",
    "    WHEN sex = 0 THEN \"Feminino\"\n",
    "    ELSE \"Masculino\"\n",
    "  END AS SEX, \n",
    "  MIN(age) PESSOA_MAIS_NOVO, \n",
    "  MAX(age) PESSOA_MAIS_VELHA\n",
    "FROM heart \n",
    "GROUP BY sex"
   ]
  },
  {
   "cell_type": "code",
   "execution_count": 0,
   "metadata": {
    "application/vnd.databricks.v1+cell": {
     "cellMetadata": {
      "byteLimit": 2048000,
      "rowLimit": 10000
     },
     "inputWidgets": {},
     "nuid": "aff8ccca-55f0-4b24-b69a-c9b5bc0cb6de",
     "showTitle": false,
     "title": ""
    }
   },
   "outputs": [],
   "source": [
    "# Código em PySpark (DataFrames)\n",
    "q9 = df.groupBy(\"sex\") \\\n",
    "       .agg(\n",
    "           min(\"age\").alias(\"pessoa_mais_nova\"),\n",
    "           max(\"age\").alias(\"pessoa_mais_velha\")\n",
    "       ) \\\n",
    "       .withColumn(\"sex\", when(col(\"sex\") == 0, \"Feminino\").otherwise(\"Masculino\"))"
   ]
  },
  {
   "cell_type": "markdown",
   "metadata": {
    "application/vnd.databricks.v1+cell": {
     "cellMetadata": {
      "byteLimit": 2048000,
      "rowLimit": 10000
     },
     "inputWidgets": {},
     "nuid": "7a8515da-7800-4d7d-9391-6728e70e0294",
     "showTitle": false,
     "title": ""
    }
   },
   "source": [
    "#### Q10. Quantas pessoas, por faixa etária, com colesterol acima de 300 apresentam tendência de um ataque do coração? "
   ]
  },
  {
   "cell_type": "code",
   "execution_count": 0,
   "metadata": {
    "application/vnd.databricks.v1+cell": {
     "cellMetadata": {
      "byteLimit": 2048000,
      "implicitDf": true,
      "rowLimit": 10000
     },
     "inputWidgets": {},
     "nuid": "9dc9c219-e431-4211-a996-cbc9e085c693",
     "showTitle": false,
     "title": ""
    }
   },
   "outputs": [
    {
     "output_type": "display_data",
     "data": {
      "text/html": [
       "<style scoped>\n",
       "  .table-result-container {\n",
       "    max-height: 300px;\n",
       "    overflow: auto;\n",
       "  }\n",
       "  table, th, td {\n",
       "    border: 1px solid black;\n",
       "    border-collapse: collapse;\n",
       "  }\n",
       "  th, td {\n",
       "    padding: 5px;\n",
       "  }\n",
       "  th {\n",
       "    text-align: left;\n",
       "  }\n",
       "</style><div class='table-result-container'><table class='table-result'><thead style='background-color: white'><tr><th>AGE_GROUP</th><th>TOTAL</th></tr></thead><tbody><tr><td>30 - 39</td><td>1</td></tr><tr><td>40 - 49</td><td>4</td></tr><tr><td>50 - 59</td><td>8</td></tr><tr><td>60 - 69</td><td>9</td></tr><tr><td>70 - 79</td><td>1</td></tr></tbody></table></div>"
      ]
     },
     "metadata": {
      "application/vnd.databricks.v1+output": {
       "addedWidgets": {},
       "aggData": [],
       "aggError": "",
       "aggOverflow": false,
       "aggSchema": [],
       "aggSeriesLimitReached": false,
       "aggType": "",
       "arguments": {},
       "columnCustomDisplayInfos": {},
       "data": [
        [
         "30 - 39",
         1
        ],
        [
         "40 - 49",
         4
        ],
        [
         "50 - 59",
         8
        ],
        [
         "60 - 69",
         9
        ],
        [
         "70 - 79",
         1
        ]
       ],
       "datasetInfos": [],
       "dbfsResultPath": null,
       "isJsonSchema": true,
       "metadata": {
        "dataframeName": "_sqldf",
        "executionCount": 35
       },
       "overflow": false,
       "plotOptions": {
        "customPlotOptions": {},
        "displayType": "table",
        "pivotAggregation": null,
        "pivotColumns": null,
        "xColumns": null,
        "yColumns": null
       },
       "removedWidgets": [],
       "schema": [
        {
         "metadata": "{}",
         "name": "AGE_GROUP",
         "type": "\"string\""
        },
        {
         "metadata": "{}",
         "name": "TOTAL",
         "type": "\"long\""
        }
       ],
       "type": "table"
      }
     },
     "output_type": "display_data"
    }
   ],
   "source": [
    "%sql\n",
    "SELECT \n",
    "  CASE \n",
    "    WHEN age < 20 THEN '0 - 19'\n",
    "    WHEN age < 30 THEN '20 - 29'\n",
    "    WHEN age < 40 THEN '30 - 39'\n",
    "    WHEN age < 50 THEN '40 - 49'\n",
    "    WHEN age < 60 THEN '50 - 59'\n",
    "    WHEN age < 70 THEN '60 - 69'\n",
    "    WHEN age < 80 THEN '70 - 79'\n",
    "    WHEN age < 90 THEN '80 - 89'\n",
    "  END AS AGE_GROUP,\n",
    "  COUNT(*) AS TOTAL\n",
    "FROM heart \n",
    "WHERE chol > 300 AND target = 'Tendência de ataque do coração'\n",
    "GROUP BY AGE_GROUP\n",
    "ORDER BY AGE_GROUP\n"
   ]
  },
  {
   "cell_type": "code",
   "execution_count": 0,
   "metadata": {
    "application/vnd.databricks.v1+cell": {
     "cellMetadata": {
      "byteLimit": 2048000,
      "rowLimit": 10000
     },
     "inputWidgets": {},
     "nuid": "f6c228fb-b29d-4d1f-b914-5a0323b43dce",
     "showTitle": false,
     "title": ""
    }
   },
   "outputs": [],
   "source": [
    "# Código em PySpark (DataFrames)\n",
    "q10 = df.filter((col(\"chol\") > 300) & (col(\"target\") == \"Tendência de ataque do coração\")) \\\n",
    "        .withColumn(\"age_group\", when(col(\"age\") < 20, \"0 - 19\") \\\n",
    "                           .when(col(\"age\") < 30, \"20 - 29\") \\\n",
    "                           .when(col(\"age\") < 40, \"30 - 39\") \\\n",
    "                           .when(col(\"age\") < 50, \"40 - 49\") \\\n",
    "                           .when(col(\"age\") < 60, \"50 - 59\") \\\n",
    "                           .when(col(\"age\") < 70, \"60 - 69\") \\\n",
    "                           .when(col(\"age\") < 80, \"70 - 79\") \\\n",
    "                           .when(col(\"age\") < 90, \"80 - 89\")\n",
    "                   ) \\\n",
    "        .groupBy(\"age_group\") \\\n",
    "        .count().alias(\"total\") \\\n",
    "        .orderBy(\"age_group\")"
   ]
  },
  {
   "cell_type": "code",
   "execution_count": 0,
   "metadata": {
    "application/vnd.databricks.v1+cell": {
     "cellMetadata": {
      "byteLimit": 2048000,
      "rowLimit": 10000
     },
     "inputWidgets": {},
     "nuid": "d7b121aa-2ee3-4518-ac3a-ea7363368ad0",
     "showTitle": false,
     "title": ""
    }
   },
   "outputs": [
    {
     "output_type": "stream",
     "name": "stdout",
     "output_type": "stream",
     "text": [
      "Finishing pre-processing and queries fase and closing silver layer\n"
     ]
    }
   ],
   "source": [
    "print(\"Finishing pre-processing and queries fase and closing silver layer\")"
   ]
  }
 ],
 "metadata": {
  "application/vnd.databricks.v1+notebook": {
   "dashboards": [],
   "environmentMetadata": null,
   "language": "python",
   "notebookMetadata": {
    "mostRecentlyExecutedCommandWithImplicitDF": {
     "commandId": 4276758214240764,
     "dataframes": [
      "_sqldf"
     ]
    },
    "pythonIndentUnit": 4
   },
   "notebookName": "silver",
   "widgets": {}
  }
 },
 "nbformat": 4,
 "nbformat_minor": 0
}
